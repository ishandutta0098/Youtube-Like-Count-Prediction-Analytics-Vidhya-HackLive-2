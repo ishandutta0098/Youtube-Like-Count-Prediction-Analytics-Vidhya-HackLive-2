{
  "nbformat": 4,
  "nbformat_minor": 0,
  "metadata": {
    "colab": {
      "name": "AV Hacklive 2 Youtube Like Count Prediction .ipynb",
      "provenance": [],
      "collapsed_sections": []
    },
    "kernelspec": {
      "name": "python3",
      "display_name": "Python 3"
    }
  },
  "cells": [
    {
      "cell_type": "markdown",
      "metadata": {
        "id": "zdhxlbyhfQxB"
      },
      "source": [
        "This notebook is my final submission to [Analytics Vidhya HackLive2](https://datahack.analyticsvidhya.com/contest/hacklive-2-guided-community-hackathon/).   \n",
        "I have also shown some additional implementations here which were not used for final submission.    \n",
        "A large part of this notebook is credited to Nikhil's Webinar. I have extended it with additional Feature Engineering and Model Tuning."
      ]
    },
    {
      "cell_type": "markdown",
      "metadata": {
        "id": "rA6i2im_gUSd"
      },
      "source": [
        "#Contents\n",
        "\n",
        "1. [Mount Drive](#Mount_Drive) \n",
        "2. [Import Libraries](#Import_Libraries)\n",
        "3. [Define Functions](#Define_Functions)\n",
        "4. [Load Data](#Load_Data)\n",
        "5. [EDA and Data Preprocessing](#EDA_and_Data_Preprocessing)  \n",
        "  5.1 [Target Distribution](#Target_Distribution)  \n",
        "  5.2 [Data Processing](#Data_Processing)  \n",
        "6. [Model](#Model)    \n",
        "  6.1 [Linear Regression](#Linear_Regression)  \n",
        "  6.2 [XGBRegressor](#XGBRegressor)  \n",
        "  6.3 [LGBMRegressor](#LGBMRegressor)  \n",
        "  6.4 [CatBoostRegressor](#CatBoostRegressor)  \n",
        "7. [Feature Engineering](#Feature_Engineering)  \n",
        "  7.1 [Helper Functions](#Helper_Functions)  \n",
        "  7.2 [DateTime Features](#DateTime_Features)  \n",
        "  7.3 [Channel Title](#Channel_Title)  \n",
        "  7.4 [Views and Comment Counts](#Views_and_Comment_Counts)  \n",
        "  7.5 [Text Data](#Text_Data)  \n",
        "  7.6 [NLP](#NLP)      \n",
        "     7.6.1 [Text Preprocessing](#Text_Preprocessing)  \n",
        "     7.6.2 [Count](#Count)    \n",
        "     7.6.3 [Sentiment Analysis](#Sentiment_Analysis)    \n",
        "     7.6.4 [Capitalized Words](#Capitalized_Words)    \n",
        "8. [Feature Engineering Models](#Feature_Engineering_Models)  \n",
        "  8.1 [LGBMRegressor](#FE_LGBMRegressor)  \n",
        "  8.2 [CatBoostRegressor](#FE_CatBoostRegressor)  \n",
        "  8.3 [XGBRegressor](#FE_XGBRegressor)  \n",
        "9. [Model Ensemble](#Model_Ensemble)"
      ]
    },
    {
      "cell_type": "markdown",
      "metadata": {
        "id": "LXjAQvllabJO"
      },
      "source": [
        "#1. Mount Drive <a id = \"Mount_Drive\"></a>"
      ]
    },
    {
      "cell_type": "code",
      "metadata": {
        "id": "MMq1h5IfXQTt"
      },
      "source": [
        "from google.colab import drive\n",
        "drive.mount('/content/MyDrive')\n",
        "\n",
        "from google.colab import files"
      ],
      "execution_count": null,
      "outputs": []
    },
    {
      "cell_type": "markdown",
      "metadata": {
        "id": "Ve4P1X0ZaelS"
      },
      "source": [
        "#2. Import Libraries <a id = \"Import_Libraries\"></a>"
      ]
    },
    {
      "cell_type": "code",
      "metadata": {
        "id": "lnSXMKaKYKa0"
      },
      "source": [
        "#Import Libraries\n",
        "\n",
        "import pandas as pd\n",
        "import numpy as np\n",
        "\n",
        "#Data Visualization\n",
        "import seaborn as sns\n",
        "import matplotlib.pyplot as plt\n",
        "%matplotlib inline\n",
        "plt.style.use('seaborn-dark')\n",
        "\n",
        "#Data Preprocessing\n",
        "from sklearn.preprocessing import StandardScaler, LabelEncoder\n",
        "from sklearn.model_selection import train_test_split, GridSearchCV, RandomizedSearchCV\n",
        "\n",
        "#NLP\n",
        "from sklearn.feature_extraction.text import CountVectorizer\n",
        "\n",
        "#Text Processing\n",
        "import re\n",
        "import nltk\n",
        "nltk.download('popular')\n",
        "\n",
        "#Language Detection\n",
        "!pip install langdetect\n",
        "import langdetect\n",
        "\n",
        "#Sentiment\n",
        "from textblob import TextBlob\n",
        "\n",
        "#ner\n",
        "import spacy\n",
        "\n",
        "#Vectorizer\n",
        "from sklearn import feature_extraction, manifold\n",
        "\n",
        "#Word Embedding\n",
        "import gensim.downloader as gensim_api\n",
        "\n",
        "#Topic Modeling\n",
        "import gensim\n",
        "\n",
        "#Model\n",
        "import tensorflow as tf\n",
        "from keras import Sequential\n",
        "from keras.layers import Dense, Dropout, Flatten\n",
        "from keras.optimizers import Adam\n",
        "\n",
        "from sklearn.linear_model import LinearRegression\n",
        "from sklearn.tree import DecisionTreeRegressor\n",
        "from sklearn.ensemble import RandomForestRegressor\n",
        "from xgboost import XGBRegressor\n",
        "from lightgbm import LGBMRegressor\n",
        "\n",
        "!pip install catboost\n",
        "from catboost import CatBoostRegressor\n",
        "\n",
        "#Validation\n",
        "from sklearn.metrics import mean_squared_log_error, mean_squared_error\n",
        "from sklearn.model_selection import KFold, cross_val_score, StratifiedKFold"
      ],
      "execution_count": null,
      "outputs": []
    },
    {
      "cell_type": "markdown",
      "metadata": {
        "id": "1cvNlUNIalw2"
      },
      "source": [
        "#3. Define Functions <a id = \"Define_Functions\"></a>"
      ]
    },
    {
      "cell_type": "code",
      "metadata": {
        "id": "CcWVTQdzYzsA"
      },
      "source": [
        "#Hackathon Metric\n",
        "def predict(model, model_features):\n",
        "  pred_train = model.predict(X_train[model_features])\n",
        "  pred_val = model.predict(X_val[model_features])\n",
        "\n",
        "  print(f\"Train RMSLE = {1000 * np.sqrt(mean_squared_error(y_train, pred_train))}\")\n",
        "  print(f\"Test RMSLE = {1000 * np.sqrt(mean_squared_error(y_val, pred_val))}\")\n",
        "\n",
        "def run_gradient_boosting(clf, fit_params, train, test, features):\n",
        "  N_SPLITS = 5\n",
        "  oofs = np.zeros(len(train))\n",
        "  preds = np.zeros((len(test)))\n",
        "\n",
        "  target = train[TARGET_COL]\n",
        "\n",
        "  folds = StratifiedKFold(n_splits = N_SPLITS)\n",
        "  stratified_target = pd.qcut(train[TARGET_COL], 10, labels = False, duplicates='drop')\n",
        "\n",
        "  feature_importances = pd.DataFrame()\n",
        "\n",
        "  for fold_, (trn_idx, val_idx) in enumerate(folds.split(train, stratified_target)):\n",
        "    print(f'\\n------------- Fold {fold_ + 1} -------------')\n",
        "\n",
        "    ### Training Set\n",
        "    X_trn, y_trn = train[features].iloc[trn_idx], target.iloc[trn_idx]\n",
        "\n",
        "    ### Validation Set\n",
        "    X_val, y_val = train[features].iloc[val_idx], target.iloc[val_idx]\n",
        "\n",
        "    ### Test Set\n",
        "    X_test = test[features]\n",
        "\n",
        "    scaler = StandardScaler()\n",
        "    _ = scaler.fit(X_trn)\n",
        "\n",
        "    X_trn = scaler.transform(X_trn)\n",
        "    X_val = scaler.transform(X_val)\n",
        "    X_test = scaler.transform(X_test)\n",
        "    \n",
        "    _ = clf.fit(X_trn, y_trn, eval_set = [(X_val, y_val)], **fit_params)\n",
        "\n",
        "    fold_importance = pd.DataFrame({'fold': fold_ + 1, 'feature': features, 'importance': clf.feature_importances_})\n",
        "    feature_importances = pd.concat([feature_importances, fold_importance], axis=0)\n",
        "\n",
        "    ### Instead of directly predicting the classes we will obtain the probability of positive class.\n",
        "    preds_val = clf.predict(X_val)\n",
        "    preds_test = clf.predict(X_test)\n",
        "\n",
        "    fold_score = av_metric(y_val, preds_val)\n",
        "    print(f'\\nAV metric score for validation set is {fold_score}')\n",
        "\n",
        "    oofs[val_idx] = preds_val\n",
        "    preds += preds_test / N_SPLITS\n",
        "\n",
        "\n",
        "  oofs_score = av_metric(target, oofs)\n",
        "  print(f'\\n\\nAV metric for oofs is {oofs_score}')\n",
        "\n",
        "  feature_importances = feature_importances.reset_index(drop = True)\n",
        "  fi = feature_importances.groupby('feature')['importance'].mean().sort_values(ascending = False)[:20][::-1]\n",
        "  fi.plot(kind = 'barh', figsize=(12, 6))\n",
        "\n",
        "  return oofs, preds, fi\n",
        "\n",
        "def av_metric(y_true, y_pred):\n",
        "  return 1000 * np.sqrt(mean_squared_error(y_true, y_pred))\n",
        "\n",
        "def download_preds(preds_test, file_name = 'hacklive_sub.csv'):\n",
        "\n",
        "  ## 1. Setting the target column with our obtained predictions\n",
        "  submission[TARGET_COL] = preds_test\n",
        "\n",
        "  ## 2. Saving our predictions to a csv file\n",
        "\n",
        "  submission.to_csv(file_name, index = False)\n",
        "\n",
        "  ## 3. Downloading and submitting the csv file\n",
        "  from google.colab import files\n",
        "  files.download(file_name)\n",
        "\n",
        "#Download Submission File\n",
        "def download(model, model_features, file_name = 'hacklive_sub.csv'):\n",
        "\n",
        "  pred_test = model.predict(test[model_features])\n",
        "  pred_test = np.expm1(pred_test)\n",
        "\n",
        "  #Setting the target column with our obtained predictions\n",
        "  submission[TARGET_COL] = pred_test\n",
        "\n",
        "  #Saving our predictions to a csv file\n",
        "  submission.to_csv(file_name, index = False)\n",
        "  \n",
        "  #Downloadingthe csv file\n",
        "  files.download(file_name)"
      ],
      "execution_count": null,
      "outputs": []
    },
    {
      "cell_type": "markdown",
      "metadata": {
        "id": "rPfre8RzapuO"
      },
      "source": [
        "#4. Load Data <a id = \"Load Data\"></a>"
      ]
    },
    {
      "cell_type": "code",
      "metadata": {
        "id": "y70Lwu0QY8Dt"
      },
      "source": [
        "test = pd.read_csv('/content/MyDrive/My Drive/Data Science/Analytics Vidhya/Hacklive 2 Guided Community Hackathon/Data/test.csv')\n",
        "train = pd.read_csv('/content/MyDrive/My Drive/Data Science/Analytics Vidhya/Hacklive 2 Guided Community Hackathon/Data/train.csv')\n",
        "submission = pd.read_csv('/content/MyDrive/My Drive/Data Science/Analytics Vidhya/Hacklive 2 Guided Community Hackathon/Data/sample_submission_cxCGjdN.csv')\n",
        "\n",
        "ID_COL, TARGET_COL = 'video_id', 'likes'\n",
        "\n",
        "num_cols = ['views', 'dislikes', 'comment_count']\n",
        "cat_cols = ['category_id', 'country_code']\n",
        "text_cols = ['title', 'channel_title', 'tags', 'description']\n",
        "date_cols = ['publish_date']\n",
        "\n",
        "# features = [c for c in train.columns if c not in [ID_COL, TARGET_COL]] "
      ],
      "execution_count": null,
      "outputs": []
    },
    {
      "cell_type": "code",
      "metadata": {
        "id": "Cj9TOvsPfUhK",
        "outputId": "756ef9df-720e-41a6-c53c-deceba11305c",
        "colab": {
          "base_uri": "https://localhost:8080/",
          "height": 564
        }
      },
      "source": [
        "train.head()"
      ],
      "execution_count": null,
      "outputs": [
        {
          "output_type": "execute_result",
          "data": {
            "text/html": [
              "<div>\n",
              "<style scoped>\n",
              "    .dataframe tbody tr th:only-of-type {\n",
              "        vertical-align: middle;\n",
              "    }\n",
              "\n",
              "    .dataframe tbody tr th {\n",
              "        vertical-align: top;\n",
              "    }\n",
              "\n",
              "    .dataframe thead th {\n",
              "        text-align: right;\n",
              "    }\n",
              "</style>\n",
              "<table border=\"1\" class=\"dataframe\">\n",
              "  <thead>\n",
              "    <tr style=\"text-align: right;\">\n",
              "      <th></th>\n",
              "      <th>video_id</th>\n",
              "      <th>title</th>\n",
              "      <th>channel_title</th>\n",
              "      <th>category_id</th>\n",
              "      <th>publish_date</th>\n",
              "      <th>tags</th>\n",
              "      <th>views</th>\n",
              "      <th>dislikes</th>\n",
              "      <th>comment_count</th>\n",
              "      <th>description</th>\n",
              "      <th>country_code</th>\n",
              "      <th>likes</th>\n",
              "    </tr>\n",
              "  </thead>\n",
              "  <tbody>\n",
              "    <tr>\n",
              "      <th>0</th>\n",
              "      <td>53364</td>\n",
              "      <td>Alif Allah Aur Insaan Episode 34 HUM TV Drama ...</td>\n",
              "      <td>HUM TV</td>\n",
              "      <td>24.0</td>\n",
              "      <td>2017-12-12</td>\n",
              "      <td>HUM|\"TV\"|\"Alif Allah Aur Insaan\"|\"Episode 34\"|...</td>\n",
              "      <td>351430.0</td>\n",
              "      <td>298.0</td>\n",
              "      <td>900.0</td>\n",
              "      <td>Alif Allah Aur Insaan Episode 34 Full - 12 Dec...</td>\n",
              "      <td>CA</td>\n",
              "      <td>2351.0</td>\n",
              "    </tr>\n",
              "    <tr>\n",
              "      <th>1</th>\n",
              "      <td>51040</td>\n",
              "      <td>It's Showtime Miss Q &amp; A: Bela gets jealous of...</td>\n",
              "      <td>ABS-CBN Entertainment</td>\n",
              "      <td>24.0</td>\n",
              "      <td>2018-03-08</td>\n",
              "      <td>ABS-CBN Entertainment|\"ABS-CBN\"|\"ABS-CBN Onlin...</td>\n",
              "      <td>461508.0</td>\n",
              "      <td>74.0</td>\n",
              "      <td>314.0</td>\n",
              "      <td>Vice Ganda notices Bela Padilla's sudden chang...</td>\n",
              "      <td>CA</td>\n",
              "      <td>3264.0</td>\n",
              "    </tr>\n",
              "    <tr>\n",
              "      <th>2</th>\n",
              "      <td>1856</td>\n",
              "      <td>ದರ್ಶನ್ ಗೆ ಬಾರಿ ಅವಮಾನ ಮಾಡಿದ ಶಿವಣ್ಣ ನಾಯಕಿ \\n  ಕ್...</td>\n",
              "      <td>SANDALWOOD REVIEWS</td>\n",
              "      <td>24.0</td>\n",
              "      <td>2018-03-26</td>\n",
              "      <td>challenging star darshan latest news|\"challeng...</td>\n",
              "      <td>40205.0</td>\n",
              "      <td>150.0</td>\n",
              "      <td>100.0</td>\n",
              "      <td>ದರ್ಶನ್ ಗೆ ಬಾರಿ ಅವಮಾನ ಮಾಡಿದ ಶಿವಣ್ಣ ನಾಯಕಿ    ಕ್ಲ...</td>\n",
              "      <td>IN</td>\n",
              "      <td>580.0</td>\n",
              "    </tr>\n",
              "    <tr>\n",
              "      <th>3</th>\n",
              "      <td>22618</td>\n",
              "      <td>Havana - swing cover | dodie feat. FLASHBACK</td>\n",
              "      <td>doddleoddle</td>\n",
              "      <td>10.0</td>\n",
              "      <td>2018-02-21</td>\n",
              "      <td>havana|\"cover\"|\"a capella\"|\"swing\"|\"dodie\"|\"fl...</td>\n",
              "      <td>509726.0</td>\n",
              "      <td>847.0</td>\n",
              "      <td>4536.0</td>\n",
              "      <td>Hi hi hi! here's our vid on FLASHBACK's channe...</td>\n",
              "      <td>GB</td>\n",
              "      <td>82773.0</td>\n",
              "    </tr>\n",
              "    <tr>\n",
              "      <th>4</th>\n",
              "      <td>74074</td>\n",
              "      <td>MUMMY NE NI KEHTA - 2  FT. 102 NOT OUT| DUDE S...</td>\n",
              "      <td>Dude Seriously</td>\n",
              "      <td>23.0</td>\n",
              "      <td>2018-05-10</td>\n",
              "      <td>dude|\"seriously\"|\"friends\"|\"fun\"|\"gujarati\"|\"h...</td>\n",
              "      <td>74311.0</td>\n",
              "      <td>69.0</td>\n",
              "      <td>161.0</td>\n",
              "      <td>BOOK YOUR TICKETS HERE:  https://goo.gl/QxdSyg...</td>\n",
              "      <td>IN</td>\n",
              "      <td>3557.0</td>\n",
              "    </tr>\n",
              "  </tbody>\n",
              "</table>\n",
              "</div>"
            ],
            "text/plain": [
              "   video_id  ...    likes\n",
              "0     53364  ...   2351.0\n",
              "1     51040  ...   3264.0\n",
              "2      1856  ...    580.0\n",
              "3     22618  ...  82773.0\n",
              "4     74074  ...   3557.0\n",
              "\n",
              "[5 rows x 12 columns]"
            ]
          },
          "metadata": {
            "tags": []
          },
          "execution_count": 51
        }
      ]
    },
    {
      "cell_type": "markdown",
      "metadata": {
        "id": "uBeCN3cCau0g"
      },
      "source": [
        "#5. EDA and Data Preprocessing <a id = \"EDA_and_Data_Preprocessing\"></a>"
      ]
    },
    {
      "cell_type": "markdown",
      "metadata": {
        "id": "SVznftIua69W"
      },
      "source": [
        "##5.1 Target Distribition <a id = \"Target_Distribution\"></a>"
      ]
    },
    {
      "cell_type": "code",
      "metadata": {
        "id": "I2C30EXyZTLE"
      },
      "source": [
        "#Likes Distribution\n",
        "_ = df[TARGET_COL].plot(kind = 'density', title = 'Likes Distribution', fontsize=14, figsize=(10, 6))"
      ],
      "execution_count": null,
      "outputs": []
    },
    {
      "cell_type": "markdown",
      "metadata": {
        "id": "tvVkQ1bUhutu"
      },
      "source": [
        "Target Column is Highly Right Skewed, so we apply log transform."
      ]
    },
    {
      "cell_type": "code",
      "metadata": {
        "id": "5eozN2CtezAN"
      },
      "source": [
        "#Log Likes Distribution\n",
        "_ = pd.Series(np.log1p(df[TARGET_COL])).plot(kind = 'density', title = 'Log Likes Distribution', fontsize=14, figsize=(10, 6))"
      ],
      "execution_count": null,
      "outputs": []
    },
    {
      "cell_type": "code",
      "metadata": {
        "id": "UPwiJqi2h94l"
      },
      "source": [
        "#Likes Boxplot\n",
        "_ = df[TARGET_COL].plot(kind = 'box', vert=False, figsize=(12, 4), title = 'Likes Boxplot', fontsize=14)"
      ],
      "execution_count": null,
      "outputs": []
    },
    {
      "cell_type": "code",
      "metadata": {
        "id": "jY7AMLndiSaK"
      },
      "source": [
        "#Log Likes BoxPlot\n",
        "_ = pd.Series(np.log1p(df[TARGET_COL])).plot(kind = 'box', vert=False, figsize=(12, 4), title = 'Likes Boxplot', fontsize=14)"
      ],
      "execution_count": null,
      "outputs": []
    },
    {
      "cell_type": "markdown",
      "metadata": {
        "id": "sui33H6pireR"
      },
      "source": [
        "Log Transform helps us to deal with outliers in Target Variable."
      ]
    },
    {
      "cell_type": "markdown",
      "metadata": {
        "id": "qNp93EuHFrlD"
      },
      "source": [
        "##5.2 Data Processing <a id = \"Data_Processing\"></a>"
      ]
    },
    {
      "cell_type": "code",
      "metadata": {
        "id": "d22et4eCikna",
        "outputId": "9bae0bc9-4772-4b65-acea-8a5965f463f4",
        "colab": {
          "base_uri": "https://localhost:8080/",
          "height": 51
        }
      },
      "source": [
        "#Combine Train and Test set for Data Cleaning\n",
        "train['set'] = 'train'\n",
        "test['set'] = 'test'\n",
        "df = pd.concat([test, train])\n",
        "\n",
        "#One Hot Encoding\n",
        "df = pd.get_dummies(df, columns=cat_cols)\n",
        "\n",
        "#Filling Null Values\n",
        "df = df.fillna(-999)\n",
        "\n",
        "#Apply Log Transform to Numerical Columns\n",
        "df[num_cols + ['likes']] = df[num_cols + ['likes']].apply(lambda x: np.log1p(x))\n",
        "\n",
        "#Separating Train and Test Data\n",
        "train = df[df['set']=='train']\n",
        "test = df[df['set']=='test']\n",
        "train = train.drop('set', 1)\n",
        "test = test.drop('set', 1)\n",
        "test = test.drop('likes', 1)\n",
        "\n",
        "#Define Features\n",
        "features = [c for c in train.columns if c not in [ID_COL, TARGET_COL]]\n",
        "cat_num_cols = [c for c in features if c not in text_cols + date_cols]"
      ],
      "execution_count": null,
      "outputs": [
        {
          "output_type": "stream",
          "text": [
            "/usr/local/lib/python3.6/dist-packages/pandas/core/series.py:726: RuntimeWarning: invalid value encountered in log1p\n",
            "  result = getattr(ufunc, method)(*inputs, **kwargs)\n"
          ],
          "name": "stderr"
        }
      ]
    },
    {
      "cell_type": "code",
      "metadata": {
        "id": "2hwfeRhnA0I6"
      },
      "source": [
        "#Train Test Split\n",
        "X = train[features]\n",
        "y = train[TARGET_COL]\n",
        "\n",
        "X_train, X_val, y_train, y_val = train_test_split(X, y, test_size=0.2, random_state = 23)"
      ],
      "execution_count": null,
      "outputs": []
    },
    {
      "cell_type": "markdown",
      "metadata": {
        "id": "kBGepr_VpAp4"
      },
      "source": [
        "#6. Model <a id = \"Model\"></a>"
      ]
    },
    {
      "cell_type": "markdown",
      "metadata": {
        "id": "w3WtuCyMLfp8"
      },
      "source": [
        "##6.1 Linear Regression <a id = \"Linear_Regression\"></a>"
      ]
    },
    {
      "cell_type": "code",
      "metadata": {
        "id": "1_N27TOkBqHp",
        "outputId": "df250801-4594-415d-8b02-3dde69a02952",
        "colab": {
          "base_uri": "https://localhost:8080/",
          "height": 51
        }
      },
      "source": [
        "#Linear Regression\n",
        "model = LinearRegression()\n",
        "\n",
        "model.fit(X_train[num_cols], y_train)\n",
        "\n",
        "predict(model, num_cols)"
      ],
      "execution_count": null,
      "outputs": [
        {
          "output_type": "stream",
          "text": [
            "Train RMSLE = 939.7873508101162\n",
            "Test RMSLE = 944.3344411130728\n"
          ],
          "name": "stdout"
        }
      ]
    },
    {
      "cell_type": "code",
      "metadata": {
        "id": "4Gdc3Pb7M5_r"
      },
      "source": [
        "download(model = model, model_features = num_cols, file_name = 's6_lr1.csv')\n",
        "# !mv s6_lr1.csv '/content/MyDrive/My Drive/Data Science/Analytics Vidhya/Hacklive 2 Guided Community Hackathon/Submission Files'"
      ],
      "execution_count": null,
      "outputs": []
    },
    {
      "cell_type": "markdown",
      "metadata": {
        "id": "1_ebs-PepkJw"
      },
      "source": [
        "##6.2 XGBRegressor <a id = \"XGBRegressor\"></a>"
      ]
    },
    {
      "cell_type": "code",
      "metadata": {
        "id": "HkiI68i3pWnO"
      },
      "source": [
        "model = XGBRegressor(n_estimators = 1000,\n",
        "                    max_depth = 6,\n",
        "                    learning_rate = 0.05,\n",
        "                    colsample_bytree = 0.5,\n",
        "                    random_state=1452,\n",
        "                    )\n",
        "\n",
        "fit_params = {'verbose': 200, 'early_stopping_rounds': 200}\n",
        "\n",
        "xgb_oofs, xgb_preds, fi = run_gradient_boosting(model, fit_params, train, test, cat_num_cols)"
      ],
      "execution_count": null,
      "outputs": []
    },
    {
      "cell_type": "code",
      "metadata": {
        "id": "Q_CWLAQut88e"
      },
      "source": [
        "xgb_preds_t = np.expm1(xgb_preds)\n",
        "download_preds(xgb_preds_t, file_name = 's9_xgb1.csv')\n",
        "# !mv s9_xgb1.csv '/content/MyDrive/My Drive/Data Science/Analytics Vidhya/Hacklive 2 Guided Community Hackathon/Submission Files'"
      ],
      "execution_count": null,
      "outputs": []
    },
    {
      "cell_type": "markdown",
      "metadata": {
        "id": "tdhqLAccMG9T"
      },
      "source": [
        "##6.3 LGBMRegressor <a id = \"LGBMRegressor\"></a>"
      ]
    },
    {
      "cell_type": "code",
      "metadata": {
        "id": "omU4r43kLn5U"
      },
      "source": [
        "model = LGBMRegressor(n_estimators = 5000,\n",
        "                        learning_rate = 0.01,\n",
        "                        colsample_bytree = 0.76,\n",
        "                        metric = 'None',\n",
        "                        )\n",
        "fit_params = {'verbose': 300, 'early_stopping_rounds': 200, 'eval_metric': 'rmse'}\n",
        "\n",
        "lgb_oofs, lgb_preds, fi = run_gradient_boosting(clf = model, fit_params = fit_params, train = train, test = test, features = cat_num_cols)"
      ],
      "execution_count": null,
      "outputs": []
    },
    {
      "cell_type": "code",
      "metadata": {
        "id": "oECPvKJ0MQvZ"
      },
      "source": [
        "lgb_preds_t = np.expm1(lgb_preds)\n",
        "download_preds(lgb_preds_t, file_name = 's7_lgbm2.csv')\n",
        "!mv s7_lgbm2.csv '/content/MyDrive/My Drive/Data Science/Analytics Vidhya/Hacklive 2 Guided Community Hackathon/Submission Files'"
      ],
      "execution_count": null,
      "outputs": []
    },
    {
      "cell_type": "markdown",
      "metadata": {
        "id": "NjrYN9ZNRBDb"
      },
      "source": [
        "##6.4 CatBoostRegressor <a id = \"CatBoostRegressor\"></a>"
      ]
    },
    {
      "cell_type": "code",
      "metadata": {
        "id": "n1FWlbV4RAm9"
      },
      "source": [
        "model = CatBoostRegressor(n_estimators = 3000,\n",
        "                       learning_rate = 0.01,\n",
        "                       rsm = 0.4, ## Analogous to colsample_bytree\n",
        "                       random_state=2054,\n",
        "                       )\n",
        "\n",
        "fit_params = {'verbose': 200, 'early_stopping_rounds': 200}\n",
        "\n",
        "cb_oofs, cb_preds, fi = run_gradient_boosting(model, fit_params, train, test, cat_num_cols)"
      ],
      "execution_count": null,
      "outputs": []
    },
    {
      "cell_type": "code",
      "metadata": {
        "id": "yV7njJkTRKJ7"
      },
      "source": [
        "cb_preds_t = np.expm1(cb_preds)\n",
        "download_preds(cb_preds_t, file_name = 's8_cb1.csv')\n",
        "# !mv s8_cb1.csv '/content/MyDrive/My Drive/Data Science/Analytics Vidhya/Hacklive 2 Guided Community Hackathon/Submission Files'"
      ],
      "execution_count": null,
      "outputs": []
    },
    {
      "cell_type": "markdown",
      "metadata": {
        "id": "FORjHjLvTQtM"
      },
      "source": [
        "#7. Feature Engineering <a id = \"Feature_Engineering\"></a>"
      ]
    },
    {
      "cell_type": "markdown",
      "metadata": {
        "id": "ENq5fW84TfMr"
      },
      "source": [
        "##7.1 Helper Functions <a id = \"Helper_Functions\"></a>"
      ]
    },
    {
      "cell_type": "code",
      "metadata": {
        "id": "PONHnmhRTT3K"
      },
      "source": [
        "test = pd.read_csv('/content/MyDrive/My Drive/Data Science/Analytics Vidhya/Hacklive 2 Guided Community Hackathon/Data/test.csv')\n",
        "train = pd.read_csv('/content/MyDrive/My Drive/Data Science/Analytics Vidhya/Hacklive 2 Guided Community Hackathon/Data/train.csv')\n",
        "\n",
        "def join_df(train, test):\n",
        "\n",
        "  df = pd.concat([train, test], axis=0).reset_index(drop = True)\n",
        "  features = [c for c in df.columns if c not in [ID_COL, TARGET_COL]]\n",
        "  df[num_cols + ['likes']] = df[num_cols + ['likes']].apply(lambda x: np.log1p(x))\n",
        "\n",
        "  return df, features\n",
        "\n",
        "def split_df_and_get_features(df, train_nrows):\n",
        "\n",
        "  train, test = df[:train_nrows].reset_index(drop = True), df[train_nrows:].reset_index(drop = True)\n",
        "  features = [c for c in train.columns if c not in [ID_COL, TARGET_COL]]\n",
        "  \n",
        "  return train, test, features\n",
        "\n",
        "df, features = join_df(train, test)\n",
        "\n",
        "cat_cols = ['category_id', 'country_code', 'channel_title']\n",
        "\n",
        "#Label Encoding\n",
        "df[cat_cols] = df[cat_cols].apply(lambda x: pd.factorize(x)[0])"
      ],
      "execution_count": null,
      "outputs": []
    },
    {
      "cell_type": "markdown",
      "metadata": {
        "id": "YBzD7rfYUQ0U"
      },
      "source": [
        "##7.2 DateTime Features <a id = \"DateTime Features\"></a>"
      ]
    },
    {
      "cell_type": "code",
      "metadata": {
        "id": "H_a1vlY-T4s8"
      },
      "source": [
        "df['publish_date'] = pd.to_datetime(df['publish_date'], format='%Y-%m-%d')\n",
        "df['publish_date_days_since_start'] = (df['publish_date'] - df['publish_date'].min()).dt.days\n",
        "\n",
        "df['publish_date_day_of_week'] = df['publish_date'].dt.dayofweek\n",
        "df['publish_date_year'] = df['publish_date'].dt.year\n",
        "df['publish_date_month'] = df['publish_date'].dt.month\n",
        "df['publish_date_week'] = df['publish_date'].dt.isocalendar().week  "
      ],
      "execution_count": null,
      "outputs": []
    },
    {
      "cell_type": "markdown",
      "metadata": {
        "id": "3T3ADn-RUjhR"
      },
      "source": [
        "##7.3 Channel Title <a id = \"Channel_Title\"></a>"
      ]
    },
    {
      "cell_type": "code",
      "metadata": {
        "id": "wVVn60u8UZq7"
      },
      "source": [
        "df['channel_title_num_videos'] = df['channel_title'].map(df['channel_title'].value_counts())\n",
        "df['publish_date_num_videos'] = df['publish_date'].map(df['publish_date'].value_counts())\n",
        "df['channel_in_n_countries'] = df.groupby('channel_title')['country_code'].transform('nunique')"
      ],
      "execution_count": null,
      "outputs": []
    },
    {
      "cell_type": "markdown",
      "metadata": {
        "id": "KSHv-LkKU2nM"
      },
      "source": [
        "##7.4 Views and Comment Counts <a id = \"Views_and_Comment_Counts\"></a>"
      ]
    },
    {
      "cell_type": "code",
      "metadata": {
        "id": "BPYX6HKNUqAr"
      },
      "source": [
        "#Grouping Features\n",
        "\n",
        "df['channel_title_mean_views'] = df.groupby('channel_title')['views'].transform('mean')\n",
        "df['channel_title_max_views'] = df.groupby('channel_title')['views'].transform('max')\n",
        "df['channel_title_min_views'] = df.groupby('channel_title')['views'].transform('min')\n",
        "\n",
        "df['channel_title_mean_comments'] = df.groupby('channel_title')['comment_count'].transform('mean')\n",
        "df['channel_title_max_comments'] = df.groupby('channel_title')['comment_count'].transform('max')\n",
        "df['channel_title_min_comments'] = df.groupby('channel_title')['comment_count'].transform('min')\n",
        "\n",
        "df['channel_title_mean_dislikes'] = df.groupby('channel_title')['dislikes'].transform('mean')\n",
        "df['channel_title_max_dislikes'] = df.groupby('channel_title')['dislikes'].transform('max')\n",
        "df['channel_title_min_dislikes'] = df.groupby('channel_title')['dislikes'].transform('min')"
      ],
      "execution_count": null,
      "outputs": []
    },
    {
      "cell_type": "markdown",
      "metadata": {
        "id": "And7FSHIVDcT"
      },
      "source": [
        "##7.5 Text Data <a id = \"Text_Data\"></a>"
      ]
    },
    {
      "cell_type": "code",
      "metadata": {
        "id": "0KtyCRibU-f0"
      },
      "source": [
        "df['title_len'] = df['title'].apply(lambda x: len(x))\n",
        "df['description_len'] = df['description'].apply(lambda x: len(x))\n",
        "df['tags_len'] = df['tags'].apply(lambda x: len(x))"
      ],
      "execution_count": null,
      "outputs": []
    },
    {
      "cell_type": "code",
      "metadata": {
        "id": "17QXR3P7VIiU"
      },
      "source": [
        "TOP_N_WORDS = 50\n",
        "\n",
        "vec = CountVectorizer(max_features = TOP_N_WORDS)\n",
        "txt_to_fts = vec.fit_transform(df['description']).toarray()\n",
        "txt_to_fts.shape\n",
        "\n",
        "c = 'description'\n",
        "txt_fts_names = [c + f'_word_{i}_count' for i in range(TOP_N_WORDS)]\n",
        "df[txt_fts_names] = txt_to_fts\n",
        "\n",
        "train, test, features = split_df_and_get_features(df, train.shape[0])\n",
        "features = [c for c in df.columns if c not in [ID_COL, TARGET_COL]]\n",
        "cat_num_cols = [c for c in features if c not in ['title', 'tags', 'description', 'publish_date']]"
      ],
      "execution_count": null,
      "outputs": []
    },
    {
      "cell_type": "code",
      "metadata": {
        "id": "WHCD9uydmamR",
        "outputId": "a257c835-35b2-4320-c239-19c5d540fb55",
        "colab": {
          "base_uri": "https://localhost:8080/",
          "height": 282
        }
      },
      "source": [
        "df.head(1)"
      ],
      "execution_count": null,
      "outputs": [
        {
          "output_type": "execute_result",
          "data": {
            "text/html": [
              "<div>\n",
              "<style scoped>\n",
              "    .dataframe tbody tr th:only-of-type {\n",
              "        vertical-align: middle;\n",
              "    }\n",
              "\n",
              "    .dataframe tbody tr th {\n",
              "        vertical-align: top;\n",
              "    }\n",
              "\n",
              "    .dataframe thead th {\n",
              "        text-align: right;\n",
              "    }\n",
              "</style>\n",
              "<table border=\"1\" class=\"dataframe\">\n",
              "  <thead>\n",
              "    <tr style=\"text-align: right;\">\n",
              "      <th></th>\n",
              "      <th>video_id</th>\n",
              "      <th>title</th>\n",
              "      <th>channel_title</th>\n",
              "      <th>category_id</th>\n",
              "      <th>publish_date</th>\n",
              "      <th>tags</th>\n",
              "      <th>views</th>\n",
              "      <th>dislikes</th>\n",
              "      <th>comment_count</th>\n",
              "      <th>description</th>\n",
              "      <th>country_code</th>\n",
              "      <th>likes</th>\n",
              "      <th>publish_date_days_since_start</th>\n",
              "      <th>publish_date_day_of_week</th>\n",
              "      <th>publish_date_year</th>\n",
              "      <th>publish_date_month</th>\n",
              "      <th>channel_title_num_videos</th>\n",
              "      <th>publish_date_num_videos</th>\n",
              "      <th>channel_in_n_countries</th>\n",
              "      <th>channel_title_mean_views</th>\n",
              "      <th>channel_title_max_views</th>\n",
              "      <th>channel_title_min_views</th>\n",
              "      <th>channel_title_mean_comments</th>\n",
              "      <th>channel_title_max_comments</th>\n",
              "      <th>channel_title_min_comments</th>\n",
              "      <th>title_len</th>\n",
              "      <th>description_len</th>\n",
              "      <th>tags_len</th>\n",
              "      <th>description_word_0_count</th>\n",
              "      <th>description_word_1_count</th>\n",
              "      <th>description_word_2_count</th>\n",
              "      <th>description_word_3_count</th>\n",
              "      <th>description_word_4_count</th>\n",
              "      <th>description_word_5_count</th>\n",
              "      <th>description_word_6_count</th>\n",
              "      <th>description_word_7_count</th>\n",
              "      <th>description_word_8_count</th>\n",
              "      <th>description_word_9_count</th>\n",
              "      <th>description_word_10_count</th>\n",
              "      <th>description_word_11_count</th>\n",
              "      <th>...</th>\n",
              "      <th>description_word_13_count</th>\n",
              "      <th>description_word_14_count</th>\n",
              "      <th>description_word_15_count</th>\n",
              "      <th>description_word_16_count</th>\n",
              "      <th>description_word_17_count</th>\n",
              "      <th>description_word_18_count</th>\n",
              "      <th>description_word_19_count</th>\n",
              "      <th>description_word_20_count</th>\n",
              "      <th>description_word_21_count</th>\n",
              "      <th>description_word_22_count</th>\n",
              "      <th>description_word_23_count</th>\n",
              "      <th>description_word_24_count</th>\n",
              "      <th>description_word_25_count</th>\n",
              "      <th>description_word_26_count</th>\n",
              "      <th>description_word_27_count</th>\n",
              "      <th>description_word_28_count</th>\n",
              "      <th>description_word_29_count</th>\n",
              "      <th>description_word_30_count</th>\n",
              "      <th>description_word_31_count</th>\n",
              "      <th>description_word_32_count</th>\n",
              "      <th>description_word_33_count</th>\n",
              "      <th>description_word_34_count</th>\n",
              "      <th>description_word_35_count</th>\n",
              "      <th>description_word_36_count</th>\n",
              "      <th>description_word_37_count</th>\n",
              "      <th>description_word_38_count</th>\n",
              "      <th>description_word_39_count</th>\n",
              "      <th>description_word_40_count</th>\n",
              "      <th>description_word_41_count</th>\n",
              "      <th>description_word_42_count</th>\n",
              "      <th>description_word_43_count</th>\n",
              "      <th>description_word_44_count</th>\n",
              "      <th>description_word_45_count</th>\n",
              "      <th>description_word_46_count</th>\n",
              "      <th>description_word_47_count</th>\n",
              "      <th>description_word_48_count</th>\n",
              "      <th>description_word_49_count</th>\n",
              "      <th>channel_title_mean_dislikes</th>\n",
              "      <th>channel_title_max_dislikes</th>\n",
              "      <th>channel_title_min_dislikes</th>\n",
              "    </tr>\n",
              "  </thead>\n",
              "  <tbody>\n",
              "    <tr>\n",
              "      <th>0</th>\n",
              "      <td>53364</td>\n",
              "      <td>Alif Allah Aur Insaan Episode 34 HUM TV Drama ...</td>\n",
              "      <td>0</td>\n",
              "      <td>0</td>\n",
              "      <td>2017-12-12</td>\n",
              "      <td>HUM|\"TV\"|\"Alif Allah Aur Insaan\"|\"Episode 34\"|...</td>\n",
              "      <td>12.769769</td>\n",
              "      <td>5.700444</td>\n",
              "      <td>6.803505</td>\n",
              "      <td>Alif Allah Aur Insaan Episode 34 Full - 12 Dec...</td>\n",
              "      <td>0</td>\n",
              "      <td>7.763021</td>\n",
              "      <td>4160</td>\n",
              "      <td>1</td>\n",
              "      <td>2017</td>\n",
              "      <td>12</td>\n",
              "      <td>94</td>\n",
              "      <td>220</td>\n",
              "      <td>2</td>\n",
              "      <td>12.621135</td>\n",
              "      <td>13.660803</td>\n",
              "      <td>11.460505</td>\n",
              "      <td>6.271691</td>\n",
              "      <td>8.29355</td>\n",
              "      <td>4.477337</td>\n",
              "      <td>64</td>\n",
              "      <td>1030</td>\n",
              "      <td>187</td>\n",
              "      <td>0</td>\n",
              "      <td>3</td>\n",
              "      <td>0</td>\n",
              "      <td>2</td>\n",
              "      <td>0</td>\n",
              "      <td>0</td>\n",
              "      <td>1</td>\n",
              "      <td>2</td>\n",
              "      <td>2</td>\n",
              "      <td>0</td>\n",
              "      <td>1</td>\n",
              "      <td>0</td>\n",
              "      <td>...</td>\n",
              "      <td>0</td>\n",
              "      <td>0</td>\n",
              "      <td>0</td>\n",
              "      <td>0</td>\n",
              "      <td>2</td>\n",
              "      <td>1</td>\n",
              "      <td>2</td>\n",
              "      <td>0</td>\n",
              "      <td>0</td>\n",
              "      <td>0</td>\n",
              "      <td>0</td>\n",
              "      <td>0</td>\n",
              "      <td>0</td>\n",
              "      <td>0</td>\n",
              "      <td>0</td>\n",
              "      <td>0</td>\n",
              "      <td>2</td>\n",
              "      <td>1</td>\n",
              "      <td>0</td>\n",
              "      <td>0</td>\n",
              "      <td>0</td>\n",
              "      <td>0</td>\n",
              "      <td>0</td>\n",
              "      <td>1</td>\n",
              "      <td>0</td>\n",
              "      <td>0</td>\n",
              "      <td>7</td>\n",
              "      <td>0</td>\n",
              "      <td>0</td>\n",
              "      <td>0</td>\n",
              "      <td>0</td>\n",
              "      <td>1</td>\n",
              "      <td>1</td>\n",
              "      <td>2</td>\n",
              "      <td>0</td>\n",
              "      <td>0</td>\n",
              "      <td>2</td>\n",
              "      <td>5.166463</td>\n",
              "      <td>6.486161</td>\n",
              "      <td>3.465736</td>\n",
              "    </tr>\n",
              "  </tbody>\n",
              "</table>\n",
              "<p>1 rows × 81 columns</p>\n",
              "</div>"
            ],
            "text/plain": [
              "   video_id  ... channel_title_min_dislikes\n",
              "0     53364  ...                   3.465736\n",
              "\n",
              "[1 rows x 81 columns]"
            ]
          },
          "metadata": {
            "tags": []
          },
          "execution_count": 111
        }
      ]
    },
    {
      "cell_type": "markdown",
      "metadata": {
        "id": "P4NQbvktpEr2"
      },
      "source": [
        "##7.6 NLP <a id = \"NLP\"></a>"
      ]
    },
    {
      "cell_type": "markdown",
      "metadata": {
        "id": "iXT3OSPOpvr5"
      },
      "source": [
        "###7.6.1 Text Preprocessing <a id = \"Text_Preprocessing\"></a>"
      ]
    },
    {
      "cell_type": "code",
      "metadata": {
        "id": "rK92IGC5pLTT"
      },
      "source": [
        "def utils_preprocess_text(text, flg_stemm=False, flg_lemm=True):\n",
        "\n",
        "    lst_stopwords = nltk.corpus.stopwords.words(\"english\")\n",
        "    \n",
        "    ## clean (convert to lowercase and remove punctuations and characters and then strip)\n",
        "    text = re.sub(r'[^\\w\\s]', '', str(text).lower().strip())\n",
        "            \n",
        "    ## Tokenize (convert from string to list)\n",
        "    lst_text = text.split()\n",
        "    ## remove Stopwords\n",
        "    if lst_stopwords is not None:\n",
        "        lst_text = [word for word in lst_text if word not in \n",
        "                    lst_stopwords]\n",
        "                \n",
        "    ## Stemming (remove -ing, -ly, ...)\n",
        "    if flg_stemm == True:\n",
        "        ps = nltk.stem.porter.PorterStemmer()\n",
        "        lst_text = [ps.stem(word) for word in lst_text]\n",
        "                \n",
        "    ## Lemmatisation (convert the word into root word)\n",
        "    if flg_lemm == True:\n",
        "        lem = nltk.stem.wordnet.WordNetLemmatizer()    \n",
        "        lst_text = [lem.lemmatize(word) for word in lst_text]\n",
        "            \n",
        "    ## back to string from list\n",
        "    text = \" \".join(lst_text)\n",
        "    return text"
      ],
      "execution_count": null,
      "outputs": []
    },
    {
      "cell_type": "code",
      "metadata": {
        "id": "3l9C8fgZq9_d"
      },
      "source": [
        "#Clean Text\n",
        "\n",
        "df[\"clean_title\"] = df[\"title\"].apply(lambda x: utils_preprocess_text(x, flg_stemm=False, flg_lemm=True, ))\n",
        "df[\"clean_tags\"] = df[\"tags\"].apply(lambda x: utils_preprocess_text(x, flg_stemm=False, flg_lemm=True, ))\n",
        "df[\"clean_description\"] = df[\"description\"].apply(lambda x: utils_preprocess_text(x, flg_stemm=False, flg_lemm=True, ))"
      ],
      "execution_count": null,
      "outputs": []
    },
    {
      "cell_type": "markdown",
      "metadata": {
        "id": "PGStfeeoXuVk"
      },
      "source": [
        "###7.6.2 Count <a id = \"Count\"></a>"
      ]
    },
    {
      "cell_type": "code",
      "metadata": {
        "id": "ifvqt-u89U1g"
      },
      "source": [
        "#Word Count\n",
        "df['clean_title_word_count'] = df[\"clean_title\"].apply(lambda x: len(str(x).split(\" \")))\n",
        "df['clean_tags_word_count'] = df[\"clean_tags\"].apply(lambda x: len(str(x).split(\" \")))\n",
        "df['clean_description_word_count'] = df[\"clean_description\"].apply(lambda x: len(str(x).split(\" \")))\n",
        "\n",
        "#Character Count\n",
        "df['clean_title_char_count'] = df[\"clean_title\"].apply(lambda x: sum(len(word) for word in str(x).split(\" \")))\n",
        "df['clean_tags_char_count'] = df[\"clean_tags\"].apply(lambda x: sum(len(word) for word in str(x).split(\" \")))\n",
        "df['clean_description_char_count'] = df[\"clean_description\"].apply(lambda x: sum(len(word) for word in str(x).split(\" \")))\n",
        "\n",
        "#Sentence Count    \n",
        "df['clean_description_sentence_count'] = df[\"clean_description\"].apply(lambda x: len(str(x).split(\".\")))\n",
        "\n",
        "#Average Word Length\n",
        "df['clean_title_avg_word_length'] = df['clean_title_char_count'] / df['clean_title_word_count']\n",
        "df['clean_tags_avg_word_length'] = df['clean_tags_char_count'] / df['clean_tags_word_count']\n",
        "df['clean_description_avg_word_length'] = df['clean_description_char_count'] / df['clean_description_word_count']\n",
        "\n",
        "#Average Sentence Length\n",
        "df['clean_description_avg_sentence_length'] = df['clean_description_word_count'] / df['clean_description_sentence_count']"
      ],
      "execution_count": null,
      "outputs": []
    },
    {
      "cell_type": "markdown",
      "metadata": {
        "id": "jsHqOc-CX1ob"
      },
      "source": [
        "###7.6.3 Sentiment Analysis <a id = \"Sentiment_Analysis\"></a>"
      ]
    },
    {
      "cell_type": "code",
      "metadata": {
        "id": "zEgytYdcP8Lv"
      },
      "source": [
        "#Sentiment Analysis\n",
        "\n",
        "df[\"clean_title_sentiment\"] = df['clean_title'].apply(lambda x: TextBlob(x).sentiment.polarity)\n",
        "df[\"clean_tags_sentiment\"] = df['clean_tags'].apply(lambda x: TextBlob(x).sentiment.polarity)\n",
        "df[\"clean_description_sentiment\"] = df['clean_description'].apply(lambda x: TextBlob(x).sentiment.polarity)"
      ],
      "execution_count": null,
      "outputs": []
    },
    {
      "cell_type": "markdown",
      "metadata": {
        "id": "pAuCjJNhYVGu"
      },
      "source": [
        "###7.6.4 Capitalized Words <a id = \"Capitalized_Words\"></a>"
      ]
    },
    {
      "cell_type": "code",
      "metadata": {
        "id": "8aa9SUFtZGiA"
      },
      "source": [
        "#Capitalized Word\n",
        "\n",
        "def contains_capitalized_word(s):\n",
        "    for w in s.split():\n",
        "        if w.isupper():\n",
        "            return 1\n",
        "    return 0\n",
        "\n",
        "df[\"clean_title_capital\"] = df['clean_title'].apply(contains_capitalized_word)\n",
        "df[\"clean_description_capital\"] = df['clean_description'].apply(contains_capitalized_word)"
      ],
      "execution_count": null,
      "outputs": []
    },
    {
      "cell_type": "code",
      "metadata": {
        "id": "YWy8GpaNL2E9"
      },
      "source": [
        "train, test, features = split_df_and_get_features(df, train.shape[0])\n",
        "features = [c for c in df.columns if c not in [ID_COL, TARGET_COL]]\n",
        "cat_num_cols = [c for c in features if c not in ['title', 'tags', 'description', 'publish_date']]"
      ],
      "execution_count": null,
      "outputs": []
    },
    {
      "cell_type": "markdown",
      "metadata": {
        "id": "mOB2a7gIXpCw"
      },
      "source": [
        "#8. Feature Engineering Models <a id = \"Feature_Engineering_Models\"></a>"
      ]
    },
    {
      "cell_type": "markdown",
      "metadata": {
        "id": "6HsFvHWZXzZL"
      },
      "source": [
        "##8.1 LGBMRegressor <a id = \"FE_LGBMRegressor\"></a>"
      ]
    },
    {
      "cell_type": "code",
      "metadata": {
        "id": "EiuHRzeQVdeE",
        "outputId": "c78baff1-f6d7-4a8e-85d7-10f03401bb74",
        "colab": {
          "base_uri": "https://localhost:8080/",
          "height": 1000
        }
      },
      "source": [
        "model = LGBMRegressor(n_estimators = 5000,\n",
        "                        learning_rate = 0.05,    \n",
        "                        colsample_bytree = 0.65,\n",
        "                        metric = 'None',\n",
        "                        num_leaves = 50, \n",
        "                       \n",
        "                       )\n",
        "fit_params = {'verbose': 300, 'early_stopping_rounds': 200, 'eval_metric': 'rmse'}\n",
        "\n",
        "lgb_oofs, lgb_preds_50, fi = run_gradient_boosting(model, fit_params, train, test, cat_num_cols)"
      ],
      "execution_count": null,
      "outputs": [
        {
          "output_type": "stream",
          "text": [
            "\n",
            "------------- Fold 1 -------------\n",
            "Training until validation scores don't improve for 200 rounds.\n",
            "[300]\tvalid_0's rmse: 0.51442\n",
            "[600]\tvalid_0's rmse: 0.496858\n",
            "[900]\tvalid_0's rmse: 0.48875\n",
            "[1200]\tvalid_0's rmse: 0.484462\n",
            "[1500]\tvalid_0's rmse: 0.482341\n",
            "[1800]\tvalid_0's rmse: 0.480705\n",
            "[2100]\tvalid_0's rmse: 0.480134\n",
            "[2400]\tvalid_0's rmse: 0.479635\n",
            "[2700]\tvalid_0's rmse: 0.479254\n",
            "[3000]\tvalid_0's rmse: 0.47913\n",
            "[3300]\tvalid_0's rmse: 0.478738\n",
            "[3600]\tvalid_0's rmse: 0.478547\n",
            "[3900]\tvalid_0's rmse: 0.478438\n",
            "[4200]\tvalid_0's rmse: 0.478297\n",
            "[4500]\tvalid_0's rmse: 0.478257\n",
            "Early stopping, best iteration is:\n",
            "[4557]\tvalid_0's rmse: 0.478234\n",
            "\n",
            "AV metric score for validation set is 478.23437129895126\n",
            "\n",
            "------------- Fold 2 -------------\n",
            "Training until validation scores don't improve for 200 rounds.\n",
            "[300]\tvalid_0's rmse: 0.50767\n",
            "[600]\tvalid_0's rmse: 0.491596\n",
            "[900]\tvalid_0's rmse: 0.485274\n",
            "[1200]\tvalid_0's rmse: 0.481869\n",
            "[1500]\tvalid_0's rmse: 0.480365\n",
            "[1800]\tvalid_0's rmse: 0.478885\n",
            "[2100]\tvalid_0's rmse: 0.478212\n",
            "[2400]\tvalid_0's rmse: 0.477703\n",
            "[2700]\tvalid_0's rmse: 0.47737\n",
            "[3000]\tvalid_0's rmse: 0.47709\n",
            "[3300]\tvalid_0's rmse: 0.477053\n",
            "Early stopping, best iteration is:\n",
            "[3157]\tvalid_0's rmse: 0.476929\n",
            "\n",
            "AV metric score for validation set is 476.92870677022313\n",
            "\n",
            "------------- Fold 3 -------------\n",
            "Training until validation scores don't improve for 200 rounds.\n",
            "[300]\tvalid_0's rmse: 0.499753\n",
            "[600]\tvalid_0's rmse: 0.48469\n",
            "[900]\tvalid_0's rmse: 0.479366\n",
            "[1200]\tvalid_0's rmse: 0.475967\n",
            "[1500]\tvalid_0's rmse: 0.474482\n",
            "[1800]\tvalid_0's rmse: 0.473932\n",
            "[2100]\tvalid_0's rmse: 0.473503\n",
            "[2400]\tvalid_0's rmse: 0.47326\n",
            "Early stopping, best iteration is:\n",
            "[2316]\tvalid_0's rmse: 0.473178\n",
            "\n",
            "AV metric score for validation set is 473.1782882207796\n",
            "\n",
            "------------- Fold 4 -------------\n",
            "Training until validation scores don't improve for 200 rounds.\n",
            "[300]\tvalid_0's rmse: 0.498626\n",
            "[600]\tvalid_0's rmse: 0.482258\n",
            "[900]\tvalid_0's rmse: 0.474791\n",
            "[1200]\tvalid_0's rmse: 0.471238\n",
            "[1500]\tvalid_0's rmse: 0.46962\n",
            "[1800]\tvalid_0's rmse: 0.468456\n",
            "[2100]\tvalid_0's rmse: 0.467707\n",
            "[2400]\tvalid_0's rmse: 0.466997\n",
            "[2700]\tvalid_0's rmse: 0.466708\n",
            "[3000]\tvalid_0's rmse: 0.466496\n",
            "[3300]\tvalid_0's rmse: 0.46632\n",
            "Early stopping, best iteration is:\n",
            "[3363]\tvalid_0's rmse: 0.466267\n",
            "\n",
            "AV metric score for validation set is 466.26716101888\n",
            "\n",
            "------------- Fold 5 -------------\n",
            "Training until validation scores don't improve for 200 rounds.\n",
            "[300]\tvalid_0's rmse: 0.510717\n",
            "[600]\tvalid_0's rmse: 0.494176\n",
            "[900]\tvalid_0's rmse: 0.488055\n",
            "[1200]\tvalid_0's rmse: 0.485344\n",
            "[1500]\tvalid_0's rmse: 0.484007\n",
            "[1800]\tvalid_0's rmse: 0.482514\n",
            "[2100]\tvalid_0's rmse: 0.482137\n",
            "Early stopping, best iteration is:\n",
            "[2155]\tvalid_0's rmse: 0.482082\n",
            "\n",
            "AV metric score for validation set is 482.08150282624155\n",
            "\n",
            "\n",
            "AV metric for oofs is 475.3682704764178\n"
          ],
          "name": "stdout"
        },
        {
          "output_type": "display_data",
          "data": {
            "image/png": "[encoded data removed]",
            "text/plain": [
              "<Figure size 864x432 with 1 Axes>"
            ]
          },
          "metadata": {
            "tags": []
          }
        }
      ]
    },
    {
      "cell_type": "code",
      "metadata": {
        "id": "3-lGzkLFWD_V",
        "outputId": "76d11c2c-d7ad-41e8-916f-673d5f60181d",
        "colab": {
          "base_uri": "https://localhost:8080/",
          "height": 17
        }
      },
      "source": [
        "lgb_preds_t = np.expm1(lgb_preds)\n",
        "download_preds(lgb_preds_t, file_name = 's27 _lgbm_featureEng_colsample0.75.csv')    \n",
        "# !mv s27_lgbm_featureEng_colsample0.75.csv '/content/MyDrive/My Drive/Data Science/Analytics Vidhya/Hacklive 2 Guided Community Hackathon/Submission Files'"
      ],
      "execution_count": null,
      "outputs": [
        {
          "output_type": "display_data",
          "data": {
            "application/javascript": [
              "\n",
              "    async function download(id, filename, size) {\n",
              "      if (!google.colab.kernel.accessAllowed) {\n",
              "        return;\n",
              "      }\n",
              "      const div = document.createElement('div');\n",
              "      const label = document.createElement('label');\n",
              "      label.textContent = `Downloading \"${filename}\": `;\n",
              "      div.appendChild(label);\n",
              "      const progress = document.createElement('progress');\n",
              "      progress.max = size;\n",
              "      div.appendChild(progress);\n",
              "      document.body.appendChild(div);\n",
              "\n",
              "      const buffers = [];\n",
              "      let downloaded = 0;\n",
              "\n",
              "      const channel = await google.colab.kernel.comms.open(id);\n",
              "      // Send a message to notify the kernel that we're ready.\n",
              "      channel.send({})\n",
              "\n",
              "      for await (const message of channel.messages) {\n",
              "        // Send a message to notify the kernel that we're ready.\n",
              "        channel.send({})\n",
              "        if (message.buffers) {\n",
              "          for (const buffer of message.buffers) {\n",
              "            buffers.push(buffer);\n",
              "            downloaded += buffer.byteLength;\n",
              "            progress.value = downloaded;\n",
              "          }\n",
              "        }\n",
              "      }\n",
              "      const blob = new Blob(buffers, {type: 'application/binary'});\n",
              "      const a = document.createElement('a');\n",
              "      a.href = window.URL.createObjectURL(blob);\n",
              "      a.download = filename;\n",
              "      div.appendChild(a);\n",
              "      a.click();\n",
              "      div.remove();\n",
              "    }\n",
              "  "
            ],
            "text/plain": [
              "<IPython.core.display.Javascript object>"
            ]
          },
          "metadata": {
            "tags": []
          }
        },
        {
          "output_type": "display_data",
          "data": {
            "application/javascript": [
              "download(\"download_18d88dda-3df4-4f88-8aac-6de8c0ac7947\", \"s27 _lgbm_featureEng_colsample0.75.csv\", 270887)"
            ],
            "text/plain": [
              "<IPython.core.display.Javascript object>"
            ]
          },
          "metadata": {
            "tags": []
          }
        }
      ]
    },
    {
      "cell_type": "markdown",
      "metadata": {
        "id": "_ny_7AWeX4Np"
      },
      "source": [
        "##8.2 CatBoostRegressor <a id = \"FE_CatBoostRegressor\"></a>"
      ]
    },
    {
      "cell_type": "code",
      "metadata": {
        "id": "uvVTl4mwWuLo"
      },
      "source": [
        "model = CatBoostRegressor(n_estimators = 3000,\n",
        "                       learning_rate = 0.01,\n",
        "                       rsm = 0.4, ## Analogous to colsample_bytree\n",
        "                       random_state=2054,\n",
        "                       )\n",
        "\n",
        "fit_params = {'verbose': 200, 'early_stopping_rounds': 200}\n",
        "\n",
        "cb_oofs, cb_preds, fi = run_gradient_boosting(model, fit_params, train, test, cat_num_cols)"
      ],
      "execution_count": null,
      "outputs": []
    },
    {
      "cell_type": "code",
      "metadata": {
        "id": "oi9ckZeHYBDJ"
      },
      "source": [
        "cb_preds_t = np.expm1(cb_preds)\n",
        "download_preds(cb_preds_t, file_name = 's11_cb_featureEng.csv')\n",
        "# !mv s11_cb_featureEng.csv '/content/MyDrive/My Drive/Data Science/Analytics Vidhya/Hacklive 2 Guided Community Hackathon/Submission Files'"
      ],
      "execution_count": null,
      "outputs": []
    },
    {
      "cell_type": "markdown",
      "metadata": {
        "id": "5tKCxsdYY8m2"
      },
      "source": [
        "##8.3 XGBRegressor <a id = \"FE_XGBRegressor\"></a>"
      ]
    },
    {
      "cell_type": "code",
      "metadata": {
        "id": "P8LXu_7sYij7"
      },
      "source": [
        "model = XGBRegressor(n_estimators = 1000,\n",
        "                    max_depth = 6,\n",
        "                    learning_rate = 0.05,\n",
        "                    colsample_bytree = 0.5,\n",
        "                    random_state=1452,\n",
        "                    )\n",
        "\n",
        "fit_params = {'verbose': 200, 'early_stopping_rounds': 200}\n",
        "\n",
        "xgb_oofs, xgb_preds, fi = run_gradient_boosting(model, fit_params, train, test, cat_num_cols)"
      ],
      "execution_count": null,
      "outputs": []
    },
    {
      "cell_type": "code",
      "metadata": {
        "id": "j5wq1143ZEvD"
      },
      "source": [
        "xgb_preds_t = np.expm1(xgb_preds)    \n",
        "download_preds(xgb_preds_t, file_name = 's28_xgb_featureEng.csv')\n",
        "# !mv s28_xgb_featureEng.csv '/content/MyDrive/My Drive/Data Science/Analytics Vidhya/Hacklive 2 Guided Community Hackathon/Submission Files'"
      ],
      "execution_count": null,
      "outputs": []
    },
    {
      "cell_type": "markdown",
      "metadata": {
        "id": "V4vFzIJkarjb"
      },
      "source": [
        "#9. Model Ensemble <a id = \"Model_Ensemble\"></a>"
      ]
    },
    {
      "cell_type": "code",
      "metadata": {
        "id": "8A7NfjbnbnQz"
      },
      "source": [
        "test = pd.read_csv('/content/MyDrive/My Drive/Data Science/Analytics Vidhya/Hacklive 2 Guided Community Hackathon/Data/test.csv')\n",
        "train = pd.read_csv('/content/MyDrive/My Drive/Data Science/Analytics Vidhya/Hacklive 2 Guided Community Hackathon/Data/train.csv')"
      ],
      "execution_count": null,
      "outputs": []
    },
    {
      "cell_type": "code",
      "metadata": {
        "id": "j0ofYAAJaZOF"
      },
      "source": [
        "train_new = train[[ID_COL, TARGET_COL]]\n",
        "train_new[TARGET_COL] = np.log1p(train_new[TARGET_COL])\n",
        "\n",
        "test_new = test[[ID_COL]]\n",
        "\n",
        "train_new['lgb'] = lgb_oofs\n",
        "test_new['lgb'] = lgb_preds\n",
        "\n",
        "train_new['cb'] = cb_oofs\n",
        "test_new['cb'] = cb_preds\n",
        "\n",
        "train_new['xgb'] = xgb_oofs\n",
        "test_new['xgb'] = xgb_preds\n",
        "\n",
        "features = [c for c in train_new.columns if c not in [ID_COL, TARGET_COL]]"
      ],
      "execution_count": null,
      "outputs": []
    },
    {
      "cell_type": "code",
      "metadata": {
        "id": "ikBhdf2Sbo1N"
      },
      "source": [
        "model = LGBMRegressor(n_estimators = 5000,\n",
        "                        learning_rate = 0.05,\n",
        "                        colsample_bytree = 0.65,\n",
        "                        metric = 'None',\n",
        "                        )\n",
        "fit_params = {'verbose': 300, 'early_stopping_rounds': 200, 'eval_metric': 'rmse'}\n",
        "\n",
        "ens_oofs, ens_preds, fi = run_gradient_boosting(model, fit_params, train_new, test_new, features)"
      ],
      "execution_count": null,
      "outputs": []
    },
    {
      "cell_type": "code",
      "metadata": {
        "id": "0pD0ynGab7UK",
        "outputId": "4a9c520f-d088-44be-bdb2-da975c236832",
        "colab": {
          "base_uri": "https://localhost:8080/",
          "height": 17
        }
      },
      "source": [
        "ens_preds_t = np.expm1(ens_preds)\n",
        "download_preds(ens_preds_t, file_name = 's13_ens1.csv')\n",
        "# !mv s13_ens1.csv '/content/MyDrive/My Drive/Data Science/Analytics Vidhya/Hacklive 2 Guided Community Hackathon/Submission Files'"
      ],
      "execution_count": null,
      "outputs": [
        {
          "output_type": "display_data",
          "data": {
            "application/javascript": [
              "\n",
              "    async function download(id, filename, size) {\n",
              "      if (!google.colab.kernel.accessAllowed) {\n",
              "        return;\n",
              "      }\n",
              "      const div = document.createElement('div');\n",
              "      const label = document.createElement('label');\n",
              "      label.textContent = `Downloading \"${filename}\": `;\n",
              "      div.appendChild(label);\n",
              "      const progress = document.createElement('progress');\n",
              "      progress.max = size;\n",
              "      div.appendChild(progress);\n",
              "      document.body.appendChild(div);\n",
              "\n",
              "      const buffers = [];\n",
              "      let downloaded = 0;\n",
              "\n",
              "      const channel = await google.colab.kernel.comms.open(id);\n",
              "      // Send a message to notify the kernel that we're ready.\n",
              "      channel.send({})\n",
              "\n",
              "      for await (const message of channel.messages) {\n",
              "        // Send a message to notify the kernel that we're ready.\n",
              "        channel.send({})\n",
              "        if (message.buffers) {\n",
              "          for (const buffer of message.buffers) {\n",
              "            buffers.push(buffer);\n",
              "            downloaded += buffer.byteLength;\n",
              "            progress.value = downloaded;\n",
              "          }\n",
              "        }\n",
              "      }\n",
              "      const blob = new Blob(buffers, {type: 'application/binary'});\n",
              "      const a = document.createElement('a');\n",
              "      a.href = window.URL.createObjectURL(blob);\n",
              "      a.download = filename;\n",
              "      div.appendChild(a);\n",
              "      a.click();\n",
              "      div.remove();\n",
              "    }\n",
              "  "
            ],
            "text/plain": [
              "<IPython.core.display.Javascript object>"
            ]
          },
          "metadata": {
            "tags": []
          }
        },
        {
          "output_type": "display_data",
          "data": {
            "application/javascript": [
              "download(\"download_0e01794c-a70c-44fc-af73-5d929a65908d\", \"s13_ens1.csv\", 270833)"
            ],
            "text/plain": [
              "<IPython.core.display.Javascript object>"
            ]
          },
          "metadata": {
            "tags": []
          }
        }
      ]
    }
  ]
}