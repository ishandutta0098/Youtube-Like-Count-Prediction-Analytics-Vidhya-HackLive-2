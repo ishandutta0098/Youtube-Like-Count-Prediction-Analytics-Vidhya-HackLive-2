{
  "nbformat": 4,
  "nbformat_minor": 0,
  "metadata": {
    "colab": {
      "name": "AV Hacklive 2 Youtube Like Count Prediction .ipynb",
      "provenance": [],
      "collapsed_sections": []
    },
    "kernelspec": {
      "name": "python3",
      "display_name": "Python 3"
    }
  },
  "cells": [
    {
      "cell_type": "markdown",
      "metadata": {
        "id": "rA6i2im_gUSd"
      },
      "source": [
        "#Contents\n",
        "\n",
        "1. [Mount Drive](#Mount_Drive)\n",
        "2. [Import Libraries](#Import_Libraries)\n",
        "3. [Define Functions](#Define_Functions)\n",
        "4. [Load Data](#Load_Data)\n",
        "5. [EDA and Data Preprocessing](#EDA_and_Data_Preprocessing)  \n",
        "  5.1 [Target Distribution](#Target_Distribution)  \n",
        "  5.2 [Data Processing](#Data_Processing)  \n",
        "6. [Model](#Model)    \n",
        "  6.1 [Linear Regression](#Linear_Regression)  \n",
        "  6.2 [XGBRegressor](#XGBRegressor)  \n",
        "  6.3 [LGBMRegressor](#LGBMRegressor)  \n",
        "  6.4 [CatBoostRegressor](#CatBoostRegressor)  \n",
        "7. [Feature Engineering](#Feature_Engineering)  \n",
        "  7.1 [Helper Functions](#Helper_Functions)  \n",
        "  7.2 [DateTime Features](#DateTime_Features)  \n",
        "  7.3 [Channel Title](#Channel_Title)  \n",
        "  7.4 [Views and Comment Counts](#Views_and_Comment_Counts)  \n",
        "  7.5 [Text Data](#Text_Data)  \n",
        "  7.6 [NLP](#NLP)      \n",
        "  -    7.6.1 [Text Preprocessing](#Text_Preprocessing)  \n",
        "  -    7.6.2 [Count](#Count)    \n",
        "  -    7.6.3 [Sentiment Analysis](#Sentiment_Analysis)    \n",
        "  -    7.6.4 [Capitalized Words](#Capitalized_Words)    \n",
        "8. [Feature Engineering Models](#Feature_Engineering_Models)  \n",
        "  8.1 [LGBMRegressor](#FE_LGBMRegressor)  \n",
        "  8.2 [CatBoostRegressor](#FE_CatBoostRegressor)  \n",
        "  8.3 [XGBRegressor](#FE_XGBRegressor)  \n",
        "9. [Model Ensemble](#Model_Ensemble)"
      ]
    },
    {
      "cell_type": "markdown",
      "metadata": {
        "id": "LXjAQvllabJO"
      },
      "source": [
        "#1. Mount Drive \n",
        "\n",
        "<a name = \"Mount_Drive\"></a>"
      ]
    },
    {
      "cell_type": "code",
      "metadata": {
        "id": "MMq1h5IfXQTt",
        "outputId": "b354e21c-2d2f-47f6-be43-f00ae096aa0c",
        "colab": {
          "base_uri": "https://localhost:8080/",
          "height": 34
        }
      },
      "source": [
        "from google.colab import drive\n",
        "drive.mount('/content/MyDrive')\n",
        "\n",
        "from google.colab import files"
      ],
      "execution_count": 52,
      "outputs": [
        {
          "output_type": "stream",
          "text": [
            "Drive already mounted at /content/MyDrive; to attempt to forcibly remount, call drive.mount(\"/content/MyDrive\", force_remount=True).\n"
          ],
          "name": "stdout"
        }
      ]
    },
    {
      "cell_type": "markdown",
      "metadata": {
        "id": "Ve4P1X0ZaelS"
      },
      "source": [
        "#2. Import Libraries <a name = \"Import_Libraries\"></a>"
      ]
    },
    {
      "cell_type": "code",
      "metadata": {
        "id": "lnSXMKaKYKa0",
        "outputId": "9674ce23-418f-4594-d55a-f6753c6b7326",
        "colab": {
          "base_uri": "https://localhost:8080/",
          "height": 1000
        }
      },
      "source": [
        "#Import Libraries\n",
        "\n",
        "import pandas as pd\n",
        "import numpy as np\n",
        "\n",
        "#Data Visualization\n",
        "import seaborn as sns\n",
        "import matplotlib.pyplot as plt\n",
        "%matplotlib inline\n",
        "plt.style.use('seaborn-dark')\n",
        "\n",
        "#Data Preprocessing\n",
        "from sklearn.preprocessing import StandardScaler, LabelEncoder\n",
        "from sklearn.model_selection import train_test_split, GridSearchCV, RandomizedSearchCV\n",
        "\n",
        "#NLP\n",
        "from sklearn.feature_extraction.text import CountVectorizer\n",
        "\n",
        "#Text Processing\n",
        "import re\n",
        "import nltk\n",
        "nltk.download('popular')\n",
        "\n",
        "#Language Detection\n",
        "!pip install langdetect\n",
        "import langdetect\n",
        "\n",
        "#Sentiment\n",
        "from textblob import TextBlob\n",
        "\n",
        "#ner\n",
        "import spacy\n",
        "\n",
        "#Vectorizer\n",
        "from sklearn import feature_extraction, manifold\n",
        "\n",
        "#Word Embedding\n",
        "import gensim.downloader as gensim_api\n",
        "\n",
        "#Topic Modeling\n",
        "import gensim\n",
        "\n",
        "#Model\n",
        "import tensorflow as tf\n",
        "from keras import Sequential\n",
        "from keras.layers import Dense, Dropout, Flatten\n",
        "from keras.optimizers import Adam\n",
        "\n",
        "from sklearn.linear_model import LinearRegression\n",
        "from sklearn.tree import DecisionTreeRegressor\n",
        "from sklearn.ensemble import RandomForestRegressor\n",
        "from xgboost import XGBRegressor\n",
        "from lightgbm import LGBMRegressor\n",
        "\n",
        "!pip install catboost\n",
        "from catboost import CatBoostRegressor\n",
        "\n",
        "#Validation\n",
        "from sklearn.metrics import mean_squared_log_error, mean_squared_error\n",
        "from sklearn.model_selection import KFold, cross_val_score, StratifiedKFold"
      ],
      "execution_count": 53,
      "outputs": [
        {
          "output_type": "stream",
          "text": [
            "[nltk_data] Downloading collection 'popular'\n",
            "[nltk_data]    | \n",
            "[nltk_data]    | Downloading package cmudict to /root/nltk_data...\n",
            "[nltk_data]    |   Package cmudict is already up-to-date!\n",
            "[nltk_data]    | Downloading package gazetteers to /root/nltk_data...\n",
            "[nltk_data]    |   Package gazetteers is already up-to-date!\n",
            "[nltk_data]    | Downloading package genesis to /root/nltk_data...\n",
            "[nltk_data]    |   Package genesis is already up-to-date!\n",
            "[nltk_data]    | Downloading package gutenberg to /root/nltk_data...\n",
            "[nltk_data]    |   Package gutenberg is already up-to-date!\n",
            "[nltk_data]    | Downloading package inaugural to /root/nltk_data...\n",
            "[nltk_data]    |   Package inaugural is already up-to-date!\n",
            "[nltk_data]    | Downloading package movie_reviews to\n",
            "[nltk_data]    |     /root/nltk_data...\n",
            "[nltk_data]    |   Package movie_reviews is already up-to-date!\n",
            "[nltk_data]    | Downloading package names to /root/nltk_data...\n",
            "[nltk_data]    |   Package names is already up-to-date!\n",
            "[nltk_data]    | Downloading package shakespeare to /root/nltk_data...\n",
            "[nltk_data]    |   Package shakespeare is already up-to-date!\n",
            "[nltk_data]    | Downloading package stopwords to /root/nltk_data...\n",
            "[nltk_data]    |   Package stopwords is already up-to-date!\n",
            "[nltk_data]    | Downloading package treebank to /root/nltk_data...\n",
            "[nltk_data]    |   Package treebank is already up-to-date!\n",
            "[nltk_data]    | Downloading package twitter_samples to\n",
            "[nltk_data]    |     /root/nltk_data...\n",
            "[nltk_data]    |   Package twitter_samples is already up-to-date!\n",
            "[nltk_data]    | Downloading package omw to /root/nltk_data...\n",
            "[nltk_data]    |   Package omw is already up-to-date!\n",
            "[nltk_data]    | Downloading package wordnet to /root/nltk_data...\n",
            "[nltk_data]    |   Package wordnet is already up-to-date!\n",
            "[nltk_data]    | Downloading package wordnet_ic to /root/nltk_data...\n",
            "[nltk_data]    |   Package wordnet_ic is already up-to-date!\n",
            "[nltk_data]    | Downloading package words to /root/nltk_data...\n",
            "[nltk_data]    |   Package words is already up-to-date!\n",
            "[nltk_data]    | Downloading package maxent_ne_chunker to\n",
            "[nltk_data]    |     /root/nltk_data...\n",
            "[nltk_data]    |   Package maxent_ne_chunker is already up-to-date!\n",
            "[nltk_data]    | Downloading package punkt to /root/nltk_data...\n",
            "[nltk_data]    |   Package punkt is already up-to-date!\n",
            "[nltk_data]    | Downloading package snowball_data to\n",
            "[nltk_data]    |     /root/nltk_data...\n",
            "[nltk_data]    |   Package snowball_data is already up-to-date!\n",
            "[nltk_data]    | Downloading package averaged_perceptron_tagger to\n",
            "[nltk_data]    |     /root/nltk_data...\n",
            "[nltk_data]    |   Package averaged_perceptron_tagger is already up-\n",
            "[nltk_data]    |       to-date!\n",
            "[nltk_data]    | \n",
            "[nltk_data]  Done downloading collection popular\n",
            "Requirement already satisfied: langdetect in /usr/local/lib/python3.6/dist-packages (1.0.8)\n",
            "Requirement already satisfied: six in /usr/local/lib/python3.6/dist-packages (from langdetect) (1.15.0)\n",
            "Requirement already satisfied: catboost in /usr/local/lib/python3.6/dist-packages (0.24.1)\n",
            "Requirement already satisfied: numpy>=1.16.0 in /usr/local/lib/python3.6/dist-packages (from catboost) (1.18.5)\n",
            "Requirement already satisfied: scipy in /usr/local/lib/python3.6/dist-packages (from catboost) (1.4.1)\n",
            "Requirement already satisfied: pandas>=0.24.0 in /usr/local/lib/python3.6/dist-packages (from catboost) (1.1.2)\n",
            "Requirement already satisfied: graphviz in /usr/local/lib/python3.6/dist-packages (from catboost) (0.10.1)\n",
            "Requirement already satisfied: six in /usr/local/lib/python3.6/dist-packages (from catboost) (1.15.0)\n",
            "Requirement already satisfied: plotly in /usr/local/lib/python3.6/dist-packages (from catboost) (4.4.1)\n",
            "Requirement already satisfied: matplotlib in /usr/local/lib/python3.6/dist-packages (from catboost) (3.2.2)\n",
            "Requirement already satisfied: pytz>=2017.2 in /usr/local/lib/python3.6/dist-packages (from pandas>=0.24.0->catboost) (2018.9)\n",
            "Requirement already satisfied: python-dateutil>=2.7.3 in /usr/local/lib/python3.6/dist-packages (from pandas>=0.24.0->catboost) (2.8.1)\n",
            "Requirement already satisfied: retrying>=1.3.3 in /usr/local/lib/python3.6/dist-packages (from plotly->catboost) (1.3.3)\n",
            "Requirement already satisfied: kiwisolver>=1.0.1 in /usr/local/lib/python3.6/dist-packages (from matplotlib->catboost) (1.2.0)\n",
            "Requirement already satisfied: pyparsing!=2.0.4,!=2.1.2,!=2.1.6,>=2.0.1 in /usr/local/lib/python3.6/dist-packages (from matplotlib->catboost) (2.4.7)\n",
            "Requirement already satisfied: cycler>=0.10 in /usr/local/lib/python3.6/dist-packages (from matplotlib->catboost) (0.10.0)\n"
          ],
          "name": "stdout"
        }
      ]
    },
    {
      "cell_type": "markdown",
      "metadata": {
        "id": "1cvNlUNIalw2"
      },
      "source": [
        "#3. Define Functions <a name = \"Define_Functions\"></a>"
      ]
    },
    {
      "cell_type": "code",
      "metadata": {
        "id": "CcWVTQdzYzsA"
      },
      "source": [
        "#Hackathon Metric\n",
        "def predict(model, model_features):\n",
        "  pred_train = model.predict(X_train[model_features])\n",
        "  pred_val = model.predict(X_val[model_features])\n",
        "\n",
        "  print(f\"Train RMSLE = {1000 * np.sqrt(mean_squared_error(y_train, pred_train))}\")\n",
        "  print(f\"Test RMSLE = {1000 * np.sqrt(mean_squared_error(y_val, pred_val))}\")\n",
        "\n",
        "def run_gradient_boosting(clf, fit_params, train, test, features):\n",
        "  N_SPLITS = 5\n",
        "  oofs = np.zeros(len(train))\n",
        "  preds = np.zeros((len(test)))\n",
        "\n",
        "  target = train[TARGET_COL]\n",
        "\n",
        "  folds = StratifiedKFold(n_splits = N_SPLITS)\n",
        "  stratified_target = pd.qcut(train[TARGET_COL], 10, labels = False, duplicates='drop')\n",
        "\n",
        "  feature_importances = pd.DataFrame()\n",
        "\n",
        "  for fold_, (trn_idx, val_idx) in enumerate(folds.split(train, stratified_target)):\n",
        "    print(f'\\n------------- Fold {fold_ + 1} -------------')\n",
        "\n",
        "    ### Training Set\n",
        "    X_trn, y_trn = train[features].iloc[trn_idx], target.iloc[trn_idx]\n",
        "\n",
        "    ### Validation Set\n",
        "    X_val, y_val = train[features].iloc[val_idx], target.iloc[val_idx]\n",
        "\n",
        "    ### Test Set\n",
        "    X_test = test[features]\n",
        "\n",
        "    scaler = StandardScaler()\n",
        "    _ = scaler.fit(X_trn)\n",
        "\n",
        "    X_trn = scaler.transform(X_trn)\n",
        "    X_val = scaler.transform(X_val)\n",
        "    X_test = scaler.transform(X_test)\n",
        "    \n",
        "    _ = clf.fit(X_trn, y_trn, eval_set = [(X_val, y_val)], **fit_params)\n",
        "\n",
        "    fold_importance = pd.DataFrame({'fold': fold_ + 1, 'feature': features, 'importance': clf.feature_importances_})\n",
        "    feature_importances = pd.concat([feature_importances, fold_importance], axis=0)\n",
        "\n",
        "    ### Instead of directly predicting the classes we will obtain the probability of positive class.\n",
        "    preds_val = clf.predict(X_val)\n",
        "    preds_test = clf.predict(X_test)\n",
        "\n",
        "    fold_score = av_metric(y_val, preds_val)\n",
        "    print(f'\\nAV metric score for validation set is {fold_score}')\n",
        "\n",
        "    oofs[val_idx] = preds_val\n",
        "    preds += preds_test / N_SPLITS\n",
        "\n",
        "\n",
        "  oofs_score = av_metric(target, oofs)\n",
        "  print(f'\\n\\nAV metric for oofs is {oofs_score}')\n",
        "\n",
        "  feature_importances = feature_importances.reset_index(drop = True)\n",
        "  fi = feature_importances.groupby('feature')['importance'].mean().sort_values(ascending = False)[:20][::-1]\n",
        "  fi.plot(kind = 'barh', figsize=(12, 6))\n",
        "\n",
        "  return oofs, preds, fi\n",
        "\n",
        "def av_metric(y_true, y_pred):\n",
        "  return 1000 * np.sqrt(mean_squared_error(y_true, y_pred))\n",
        "\n",
        "def download_preds(preds_test, file_name = 'hacklive_sub.csv'):\n",
        "\n",
        "  ## 1. Setting the target column with our obtained predictions\n",
        "  submission[TARGET_COL] = preds_test\n",
        "\n",
        "  ## 2. Saving our predictions to a csv file\n",
        "\n",
        "  submission.to_csv(file_name, index = False)\n",
        "\n",
        "  ## 3. Downloading and submitting the csv file\n",
        "  from google.colab import files\n",
        "  files.download(file_name)\n",
        "\n",
        "#Download Submission File\n",
        "def download(model, model_features, file_name = 'hacklive_sub.csv'):\n",
        "\n",
        "  pred_test = model.predict(test[model_features])\n",
        "  pred_test = np.expm1(pred_test)\n",
        "\n",
        "  #Setting the target column with our obtained predictions\n",
        "  submission[TARGET_COL] = pred_test\n",
        "\n",
        "  #Saving our predictions to a csv file\n",
        "  submission.to_csv(file_name, index = False)\n",
        "  \n",
        "  #Downloadingthe csv file\n",
        "  files.download(file_name)"
      ],
      "execution_count": 54,
      "outputs": []
    },
    {
      "cell_type": "markdown",
      "metadata": {
        "id": "rPfre8RzapuO"
      },
      "source": [
        "#4. Load Data <a name = \"Load Data\"></a>"
      ]
    },
    {
      "cell_type": "code",
      "metadata": {
        "id": "y70Lwu0QY8Dt"
      },
      "source": [
        "test = pd.read_csv('/content/MyDrive/My Drive/Data Science/Analytics Vidhya/Hacklive 2 Guided Community Hackathon/Data/test.csv')\n",
        "train = pd.read_csv('/content/MyDrive/My Drive/Data Science/Analytics Vidhya/Hacklive 2 Guided Community Hackathon/Data/train.csv')\n",
        "submission = pd.read_csv('/content/MyDrive/My Drive/Data Science/Analytics Vidhya/Hacklive 2 Guided Community Hackathon/Data/sample_submission_cxCGjdN.csv')\n",
        "\n",
        "ID_COL, TARGET_COL = 'video_id', 'likes'\n",
        "\n",
        "num_cols = ['views', 'dislikes', 'comment_count']\n",
        "cat_cols = ['category_id', 'country_code']\n",
        "text_cols = ['title', 'channel_title', 'tags', 'description']\n",
        "date_cols = ['publish_date']\n",
        "\n",
        "# features = [c for c in train.columns if c not in [ID_COL, TARGET_COL]] "
      ],
      "execution_count": 55,
      "outputs": []
    },
    {
      "cell_type": "code",
      "metadata": {
        "id": "Cj9TOvsPfUhK",
        "outputId": "ea7b66a7-145e-436e-a0af-074d75ecd253",
        "colab": {
          "base_uri": "https://localhost:8080/",
          "height": 564
        }
      },
      "source": [
        "train.head()"
      ],
      "execution_count": 56,
      "outputs": [
        {
          "output_type": "execute_result",
          "data": {
            "text/html": [
              "<div>\n",
              "<style scoped>\n",
              "    .dataframe tbody tr th:only-of-type {\n",
              "        vertical-align: middle;\n",
              "    }\n",
              "\n",
              "    .dataframe tbody tr th {\n",
              "        vertical-align: top;\n",
              "    }\n",
              "\n",
              "    .dataframe thead th {\n",
              "        text-align: right;\n",
              "    }\n",
              "</style>\n",
              "<table border=\"1\" class=\"dataframe\">\n",
              "  <thead>\n",
              "    <tr style=\"text-align: right;\">\n",
              "      <th></th>\n",
              "      <th>video_id</th>\n",
              "      <th>title</th>\n",
              "      <th>channel_title</th>\n",
              "      <th>category_id</th>\n",
              "      <th>publish_date</th>\n",
              "      <th>tags</th>\n",
              "      <th>views</th>\n",
              "      <th>dislikes</th>\n",
              "      <th>comment_count</th>\n",
              "      <th>description</th>\n",
              "      <th>country_code</th>\n",
              "      <th>likes</th>\n",
              "    </tr>\n",
              "  </thead>\n",
              "  <tbody>\n",
              "    <tr>\n",
              "      <th>0</th>\n",
              "      <td>53364</td>\n",
              "      <td>Alif Allah Aur Insaan Episode 34 HUM TV Drama ...</td>\n",
              "      <td>HUM TV</td>\n",
              "      <td>24.0</td>\n",
              "      <td>2017-12-12</td>\n",
              "      <td>HUM|\"TV\"|\"Alif Allah Aur Insaan\"|\"Episode 34\"|...</td>\n",
              "      <td>351430.0</td>\n",
              "      <td>298.0</td>\n",
              "      <td>900.0</td>\n",
              "      <td>Alif Allah Aur Insaan Episode 34 Full - 12 Dec...</td>\n",
              "      <td>CA</td>\n",
              "      <td>2351.0</td>\n",
              "    </tr>\n",
              "    <tr>\n",
              "      <th>1</th>\n",
              "      <td>51040</td>\n",
              "      <td>It's Showtime Miss Q &amp; A: Bela gets jealous of...</td>\n",
              "      <td>ABS-CBN Entertainment</td>\n",
              "      <td>24.0</td>\n",
              "      <td>2018-03-08</td>\n",
              "      <td>ABS-CBN Entertainment|\"ABS-CBN\"|\"ABS-CBN Onlin...</td>\n",
              "      <td>461508.0</td>\n",
              "      <td>74.0</td>\n",
              "      <td>314.0</td>\n",
              "      <td>Vice Ganda notices Bela Padilla's sudden chang...</td>\n",
              "      <td>CA</td>\n",
              "      <td>3264.0</td>\n",
              "    </tr>\n",
              "    <tr>\n",
              "      <th>2</th>\n",
              "      <td>1856</td>\n",
              "      <td>ದರ್ಶನ್ ಗೆ ಬಾರಿ ಅವಮಾನ ಮಾಡಿದ ಶಿವಣ್ಣ ನಾಯಕಿ \\n  ಕ್...</td>\n",
              "      <td>SANDALWOOD REVIEWS</td>\n",
              "      <td>24.0</td>\n",
              "      <td>2018-03-26</td>\n",
              "      <td>challenging star darshan latest news|\"challeng...</td>\n",
              "      <td>40205.0</td>\n",
              "      <td>150.0</td>\n",
              "      <td>100.0</td>\n",
              "      <td>ದರ್ಶನ್ ಗೆ ಬಾರಿ ಅವಮಾನ ಮಾಡಿದ ಶಿವಣ್ಣ ನಾಯಕಿ    ಕ್ಲ...</td>\n",
              "      <td>IN</td>\n",
              "      <td>580.0</td>\n",
              "    </tr>\n",
              "    <tr>\n",
              "      <th>3</th>\n",
              "      <td>22618</td>\n",
              "      <td>Havana - swing cover | dodie feat. FLASHBACK</td>\n",
              "      <td>doddleoddle</td>\n",
              "      <td>10.0</td>\n",
              "      <td>2018-02-21</td>\n",
              "      <td>havana|\"cover\"|\"a capella\"|\"swing\"|\"dodie\"|\"fl...</td>\n",
              "      <td>509726.0</td>\n",
              "      <td>847.0</td>\n",
              "      <td>4536.0</td>\n",
              "      <td>Hi hi hi! here's our vid on FLASHBACK's channe...</td>\n",
              "      <td>GB</td>\n",
              "      <td>82773.0</td>\n",
              "    </tr>\n",
              "    <tr>\n",
              "      <th>4</th>\n",
              "      <td>74074</td>\n",
              "      <td>MUMMY NE NI KEHTA - 2  FT. 102 NOT OUT| DUDE S...</td>\n",
              "      <td>Dude Seriously</td>\n",
              "      <td>23.0</td>\n",
              "      <td>2018-05-10</td>\n",
              "      <td>dude|\"seriously\"|\"friends\"|\"fun\"|\"gujarati\"|\"h...</td>\n",
              "      <td>74311.0</td>\n",
              "      <td>69.0</td>\n",
              "      <td>161.0</td>\n",
              "      <td>BOOK YOUR TICKETS HERE:  https://goo.gl/QxdSyg...</td>\n",
              "      <td>IN</td>\n",
              "      <td>3557.0</td>\n",
              "    </tr>\n",
              "  </tbody>\n",
              "</table>\n",
              "</div>"
            ],
            "text/plain": [
              "   video_id  ...    likes\n",
              "0     53364  ...   2351.0\n",
              "1     51040  ...   3264.0\n",
              "2      1856  ...    580.0\n",
              "3     22618  ...  82773.0\n",
              "4     74074  ...   3557.0\n",
              "\n",
              "[5 rows x 12 columns]"
            ]
          },
          "metadata": {
            "tags": []
          },
          "execution_count": 56
        }
      ]
    },
    {
      "cell_type": "markdown",
      "metadata": {
        "id": "uBeCN3cCau0g"
      },
      "source": [
        "#5. EDA and Data Preprocessing <a name = \"EDA_and_Data_Preprocessing\"></a>"
      ]
    },
    {
      "cell_type": "markdown",
      "metadata": {
        "id": "SVznftIua69W"
      },
      "source": [
        "##5.1 Target Distribition <a name = \"Target_Distribution\"></a>"
      ]
    },
    {
      "cell_type": "code",
      "metadata": {
        "id": "JqKVNgceJccd"
      },
      "source": [
        "df, features = join_df(train, test)"
      ],
      "execution_count": 66,
      "outputs": []
    },
    {
      "cell_type": "code",
      "metadata": {
        "id": "I2C30EXyZTLE",
        "outputId": "5ae8dbc2-0618-4584-8bda-7abc840b9bc7",
        "colab": {
          "base_uri": "https://localhost:8080/",
          "height": 407
        }
      },
      "source": [
        "#Likes Distribution\n",
        "df[TARGET_COL].plot(kind = 'density', title = 'Likes Distribution', fontsize=14, figsize=(10, 6))"
      ],
      "execution_count": 67,
      "outputs": [
        {
          "output_type": "execute_result",
          "data": {
            "text/plain": [
              "<matplotlib.axes._subplots.AxesSubplot at 0x7f6f081cbf60>"
            ]
          },
          "metadata": {
            "tags": []
          },
          "execution_count": 67
        },
        {
          "output_type": "display_data",
          "data": {
            "image/png": "[encoded data removed]",
            "text/plain": [
              "<Figure size 720x432 with 1 Axes>"
            ]
          },
          "metadata": {
            "tags": []
          }
        }
      ]
    },
    {
      "cell_type": "markdown",
      "metadata": {
        "id": "tvVkQ1bUhutu"
      },
      "source": [
        "Target Column is Highly Right Skewed, so we apply log transform."
      ]
    },
    {
      "cell_type": "code",
      "metadata": {
        "id": "94yuNRFzKnIW",
        "outputId": "333e902c-0f21-449b-f8e2-667757d936a4",
        "colab": {
          "base_uri": "https://localhost:8080/",
          "height": 390
        }
      },
      "source": [
        "#Log Likes Distribution\n",
        "_ = pd.Series(np.log1p(df[TARGET_COL])).plot(kind = 'density', title = 'Log Likes Distribution', fontsize=14, figsize=(10, 6))"
      ],
      "execution_count": 73,
      "outputs": [
        {
          "output_type": "display_data",
          "data": {
            "image/png": "[encoded data removed]",
            "text/plain": [
              "<Figure size 720x432 with 1 Axes>"
            ]
          },
          "metadata": {
            "tags": []
          }
        }
      ]
    },
    {
      "cell_type": "code",
      "metadata": {
        "id": "UPwiJqi2h94l",
        "outputId": "6fa9f289-b479-45c3-ac6d-0a5bd1734984",
        "colab": {
          "base_uri": "https://localhost:8080/",
          "height": 298
        }
      },
      "source": [
        "#Likes Boxplot\n",
        "df[TARGET_COL].plot(kind = 'box', vert=False, figsize=(12, 4), title = 'Likes Boxplot', fontsize=14)"
      ],
      "execution_count": 69,
      "outputs": [
        {
          "output_type": "execute_result",
          "data": {
            "text/plain": [
              "<matplotlib.axes._subplots.AxesSubplot at 0x7f6f0c8c26d8>"
            ]
          },
          "metadata": {
            "tags": []
          },
          "execution_count": 69
        },
        {
          "output_type": "display_data",
          "data": {
            "image/png": "[encoded data removed]",
            "text/plain": [
              "<Figure size 864x288 with 1 Axes>"
            ]
          },
          "metadata": {
            "tags": []
          }
        }
      ]
    },
    {
      "cell_type": "code",
      "metadata": {
        "id": "jY7AMLndiSaK",
        "outputId": "0107da34-47a0-44f0-c856-7bf40c84f634",
        "colab": {
          "base_uri": "https://localhost:8080/",
          "height": 298
        }
      },
      "source": [
        "#Log Likes BoxPlot\n",
        "pd.Series(np.log1p(df[TARGET_COL])).plot(kind = 'box', vert=False, figsize=(12, 4), title = 'Likes Boxplot', fontsize=14)"
      ],
      "execution_count": 70,
      "outputs": [
        {
          "output_type": "execute_result",
          "data": {
            "text/plain": [
              "<matplotlib.axes._subplots.AxesSubplot at 0x7f6f0da4ab00>"
            ]
          },
          "metadata": {
            "tags": []
          },
          "execution_count": 70
        },
        {
          "output_type": "display_data",
          "data": {
            "image/png": "[encoded data removed]",
            "text/plain": [
              "<Figure size 864x288 with 1 Axes>"
            ]
          },
          "metadata": {
            "tags": []
          }
        }
      ]
    },
    {
      "cell_type": "markdown",
      "metadata": {
        "id": "sui33H6pireR"
      },
      "source": [
        "Log Transform helps us to deal with outliers in Target Variable."
      ]
    },
    {
      "cell_type": "markdown",
      "metadata": {
        "id": "qNp93EuHFrlD"
      },
      "source": [
        "##5.2 Data Processing <a name = \"Data_Processing\"></a>"
      ]
    },
    {
      "cell_type": "code",
      "metadata": {
        "id": "d22et4eCikna",
        "outputId": "a81cf06d-451f-4759-b064-c389b180282a",
        "colab": {
          "base_uri": "https://localhost:8080/",
          "height": 51
        }
      },
      "source": [
        "#Combine Train and Test set for Data Cleaning\n",
        "train['set'] = 'train'\n",
        "test['set'] = 'test'\n",
        "df = pd.concat([test, train])\n",
        "\n",
        "#One Hot Encoding\n",
        "df = pd.get_dummies(df, columns=cat_cols)\n",
        "\n",
        "#Filling Null Values\n",
        "df = df.fillna(-999)\n",
        "\n",
        "#Apply Log Transform to Numerical Columns\n",
        "df[num_cols + ['likes']] = df[num_cols + ['likes']].apply(lambda x: np.log1p(x))\n",
        "\n",
        "#Separating Train and Test Data\n",
        "train = df[df['set']=='train']\n",
        "test = df[df['set']=='test']\n",
        "train = train.drop('set', 1)\n",
        "test = test.drop('set', 1)\n",
        "test = test.drop('likes', 1)\n",
        "\n",
        "#Define Features\n",
        "features = [c for c in train.columns if c not in [ID_COL, TARGET_COL]]\n",
        "cat_num_cols = [c for c in features if c not in text_cols + date_cols]"
      ],
      "execution_count": 75,
      "outputs": [
        {
          "output_type": "stream",
          "text": [
            "/usr/local/lib/python3.6/dist-packages/pandas/core/series.py:726: RuntimeWarning: invalid value encountered in log1p\n",
            "  result = getattr(ufunc, method)(*inputs, **kwargs)\n"
          ],
          "name": "stderr"
        }
      ]
    },
    {
      "cell_type": "code",
      "metadata": {
        "id": "2hwfeRhnA0I6"
      },
      "source": [
        "#Train Test Split\n",
        "X = train[features]\n",
        "y = train[TARGET_COL]\n",
        "\n",
        "X_train, X_val, y_train, y_val = train_test_split(X, y, test_size=0.2, random_state = 23)"
      ],
      "execution_count": 76,
      "outputs": []
    },
    {
      "cell_type": "markdown",
      "metadata": {
        "id": "kBGepr_VpAp4"
      },
      "source": [
        "#6. Model <a name = \"Model\"></a>"
      ]
    },
    {
      "cell_type": "markdown",
      "metadata": {
        "id": "w3WtuCyMLfp8"
      },
      "source": [
        "##6.1 Linear Regression <a name = \"Linear_Regression\"></a>"
      ]
    },
    {
      "cell_type": "code",
      "metadata": {
        "id": "1_N27TOkBqHp",
        "outputId": "86ef2c42-bbd4-42c1-907e-84a3dfb46742",
        "colab": {
          "base_uri": "https://localhost:8080/",
          "height": 51
        }
      },
      "source": [
        "#Linear Regression\n",
        "model = LinearRegression()\n",
        "\n",
        "model.fit(X_train[num_cols], y_train)\n",
        "\n",
        "predict(model, num_cols)"
      ],
      "execution_count": 77,
      "outputs": [
        {
          "output_type": "stream",
          "text": [
            "Train RMSLE = 939.7873508101162\n",
            "Test RMSLE = 944.3344411130728\n"
          ],
          "name": "stdout"
        }
      ]
    },
    {
      "cell_type": "code",
      "metadata": {
        "id": "4Gdc3Pb7M5_r"
      },
      "source": [
        "# download(model = model, model_features = num_cols, file_name = 's6_lr1.csv')\n",
        "# !mv s6_lr1.csv '/content/MyDrive/My Drive/Data Science/Analytics Vidhya/Hacklive 2 Guided Community Hackathon/Submission Files'"
      ],
      "execution_count": null,
      "outputs": []
    },
    {
      "cell_type": "markdown",
      "metadata": {
        "id": "1_ebs-PepkJw"
      },
      "source": [
        "##6.2 XGBRegressor <a name = \"XGBRegressor\"></a>"
      ]
    },
    {
      "cell_type": "code",
      "metadata": {
        "id": "HkiI68i3pWnO",
        "outputId": "23736a02-2c72-445f-c397-0ef97ad7bf8b",
        "colab": {
          "base_uri": "https://localhost:8080/",
          "height": 1000
        }
      },
      "source": [
        "model = XGBRegressor(n_estimators = 1000,\n",
        "                    max_depth = 6,\n",
        "                    learning_rate = 0.05,\n",
        "                    colsample_bytree = 0.5,\n",
        "                    random_state=1452,\n",
        "                    )\n",
        "\n",
        "fit_params = {'verbose': 200, 'early_stopping_rounds': 200}\n",
        "\n",
        "xgb_oofs, xgb_preds, fi = run_gradient_boosting(model, fit_params, train, test, cat_num_cols)"
      ],
      "execution_count": 79,
      "outputs": [
        {
          "output_type": "stream",
          "text": [
            "\n",
            "------------- Fold 1 -------------\n",
            "[19:52:08] WARNING: /workspace/src/objective/regression_obj.cu:152: reg:linear is now deprecated in favor of reg:squarederror.\n",
            "[0]\tvalidation_0-rmse:7.13914\n",
            "Will train until validation_0-rmse hasn't improved in 200 rounds.\n",
            "[200]\tvalidation_0-rmse:0.675344\n",
            "[400]\tvalidation_0-rmse:0.668702\n",
            "[600]\tvalidation_0-rmse:0.666931\n",
            "[800]\tvalidation_0-rmse:0.666898\n",
            "Stopping. Best iteration:\n",
            "[736]\tvalidation_0-rmse:0.666675\n",
            "\n",
            "\n",
            "AV metric score for validation set is 666.6752519026531\n",
            "\n",
            "------------- Fold 2 -------------\n",
            "[19:52:28] WARNING: /workspace/src/objective/regression_obj.cu:152: reg:linear is now deprecated in favor of reg:squarederror.\n",
            "[0]\tvalidation_0-rmse:7.12698\n",
            "Will train until validation_0-rmse hasn't improved in 200 rounds.\n",
            "[200]\tvalidation_0-rmse:0.687736\n",
            "[400]\tvalidation_0-rmse:0.680454\n",
            "[600]\tvalidation_0-rmse:0.679159\n",
            "[800]\tvalidation_0-rmse:0.678962\n",
            "Stopping. Best iteration:\n",
            "[790]\tvalidation_0-rmse:0.678721\n",
            "\n",
            "\n",
            "AV metric score for validation set is 678.7210554498439\n",
            "\n",
            "------------- Fold 3 -------------\n",
            "[19:52:50] WARNING: /workspace/src/objective/regression_obj.cu:152: reg:linear is now deprecated in favor of reg:squarederror.\n",
            "[0]\tvalidation_0-rmse:7.1196\n",
            "Will train until validation_0-rmse hasn't improved in 200 rounds.\n",
            "[200]\tvalidation_0-rmse:0.680665\n",
            "[400]\tvalidation_0-rmse:0.673414\n",
            "[600]\tvalidation_0-rmse:0.672737\n",
            "Stopping. Best iteration:\n",
            "[568]\tvalidation_0-rmse:0.672578\n",
            "\n",
            "\n",
            "AV metric score for validation set is 672.5774899610437\n",
            "\n",
            "------------- Fold 4 -------------\n",
            "[19:53:07] WARNING: /workspace/src/objective/regression_obj.cu:152: reg:linear is now deprecated in favor of reg:squarederror.\n",
            "[0]\tvalidation_0-rmse:7.12104\n",
            "Will train until validation_0-rmse hasn't improved in 200 rounds.\n",
            "[200]\tvalidation_0-rmse:0.672998\n",
            "[400]\tvalidation_0-rmse:0.667772\n",
            "[600]\tvalidation_0-rmse:0.667139\n",
            "Stopping. Best iteration:\n",
            "[515]\tvalidation_0-rmse:0.666906\n",
            "\n",
            "\n",
            "AV metric score for validation set is 666.9056915032018\n",
            "\n",
            "------------- Fold 5 -------------\n",
            "[19:53:23] WARNING: /workspace/src/objective/regression_obj.cu:152: reg:linear is now deprecated in favor of reg:squarederror.\n",
            "[0]\tvalidation_0-rmse:7.11941\n",
            "Will train until validation_0-rmse hasn't improved in 200 rounds.\n",
            "[200]\tvalidation_0-rmse:0.681365\n",
            "[400]\tvalidation_0-rmse:0.675628\n",
            "[600]\tvalidation_0-rmse:0.675027\n",
            "Stopping. Best iteration:\n",
            "[499]\tvalidation_0-rmse:0.674595\n",
            "\n",
            "\n",
            "AV metric score for validation set is 674.5948973476245\n",
            "\n",
            "\n",
            "AV metric for oofs is 671.9105260280289\n"
          ],
          "name": "stdout"
        },
        {
          "output_type": "display_data",
          "data": {
            "image/png": "[encoded data removed]",
            "text/plain": [
              "<Figure size 864x432 with 1 Axes>"
            ]
          },
          "metadata": {
            "tags": []
          }
        }
      ]
    },
    {
      "cell_type": "code",
      "metadata": {
        "id": "Q_CWLAQut88e"
      },
      "source": [
        "xgb_preds_t = np.expm1(xgb_preds)\n",
        "# download_preds(xgb_preds_t, file_name = 's9_xgb1.csv')\n",
        "# !mv s9_xgb1.csv '/content/MyDrive/My Drive/Data Science/Analytics Vidhya/Hacklive 2 Guided Community Hackathon/Submission Files'"
      ],
      "execution_count": 80,
      "outputs": []
    },
    {
      "cell_type": "markdown",
      "metadata": {
        "id": "tdhqLAccMG9T"
      },
      "source": [
        "##6.3 LGBMRegressor <a name = \"LGBMRegressor\"></a>"
      ]
    },
    {
      "cell_type": "code",
      "metadata": {
        "id": "omU4r43kLn5U",
        "outputId": "f112d608-7446-4b16-bec9-9a912f44c31a",
        "colab": {
          "base_uri": "https://localhost:8080/",
          "height": 1000
        }
      },
      "source": [
        "model = LGBMRegressor(n_estimators = 5000,\n",
        "                        learning_rate = 0.01,\n",
        "                        colsample_bytree = 0.76,\n",
        "                        metric = 'None',\n",
        "                        )\n",
        "fit_params = {'verbose': 300, 'early_stopping_rounds': 200, 'eval_metric': 'rmse'}\n",
        "\n",
        "lgb_oofs, lgb_preds, fi = run_gradient_boosting(clf = model, fit_params = fit_params, train = train, test = test, features = cat_num_cols)"
      ],
      "execution_count": 81,
      "outputs": [
        {
          "output_type": "stream",
          "text": [
            "\n",
            "------------- Fold 1 -------------\n",
            "Training until validation scores don't improve for 200 rounds.\n",
            "[300]\tvalid_0's rmse: 0.721861\n",
            "[600]\tvalid_0's rmse: 0.684465\n",
            "[900]\tvalid_0's rmse: 0.675775\n",
            "[1200]\tvalid_0's rmse: 0.671939\n",
            "[1500]\tvalid_0's rmse: 0.669667\n",
            "[1800]\tvalid_0's rmse: 0.668281\n",
            "[2100]\tvalid_0's rmse: 0.667301\n",
            "[2400]\tvalid_0's rmse: 0.66692\n",
            "[2700]\tvalid_0's rmse: 0.666468\n",
            "[3000]\tvalid_0's rmse: 0.666088\n",
            "[3300]\tvalid_0's rmse: 0.665889\n",
            "Early stopping, best iteration is:\n",
            "[3258]\tvalid_0's rmse: 0.66583\n",
            "\n",
            "AV metric score for validation set is 665.8296103716714\n",
            "\n",
            "------------- Fold 2 -------------\n",
            "Training until validation scores don't improve for 200 rounds.\n",
            "[300]\tvalid_0's rmse: 0.721827\n",
            "[600]\tvalid_0's rmse: 0.687805\n",
            "[900]\tvalid_0's rmse: 0.680174\n",
            "[1200]\tvalid_0's rmse: 0.676595\n",
            "[1500]\tvalid_0's rmse: 0.674976\n",
            "[1800]\tvalid_0's rmse: 0.673857\n",
            "[2100]\tvalid_0's rmse: 0.673691\n",
            "Early stopping, best iteration is:\n",
            "[2034]\tvalid_0's rmse: 0.67356\n",
            "\n",
            "AV metric score for validation set is 673.5595131647339\n",
            "\n",
            "------------- Fold 3 -------------\n",
            "Training until validation scores don't improve for 200 rounds.\n",
            "[300]\tvalid_0's rmse: 0.717337\n",
            "[600]\tvalid_0's rmse: 0.679581\n",
            "[900]\tvalid_0's rmse: 0.671809\n",
            "[1200]\tvalid_0's rmse: 0.668628\n",
            "[1500]\tvalid_0's rmse: 0.667199\n",
            "[1800]\tvalid_0's rmse: 0.666652\n",
            "[2100]\tvalid_0's rmse: 0.66639\n",
            "[2400]\tvalid_0's rmse: 0.666178\n",
            "Early stopping, best iteration is:\n",
            "[2467]\tvalid_0's rmse: 0.666158\n",
            "\n",
            "AV metric score for validation set is 666.1582072915304\n",
            "\n",
            "------------- Fold 4 -------------\n",
            "Training until validation scores don't improve for 200 rounds.\n",
            "[300]\tvalid_0's rmse: 0.710966\n",
            "[600]\tvalid_0's rmse: 0.674958\n",
            "[900]\tvalid_0's rmse: 0.667302\n",
            "[1200]\tvalid_0's rmse: 0.664036\n",
            "[1500]\tvalid_0's rmse: 0.661703\n",
            "[1800]\tvalid_0's rmse: 0.66064\n",
            "[2100]\tvalid_0's rmse: 0.65998\n",
            "[2400]\tvalid_0's rmse: 0.659477\n",
            "[2700]\tvalid_0's rmse: 0.659349\n",
            "Early stopping, best iteration is:\n",
            "[2771]\tvalid_0's rmse: 0.659268\n",
            "\n",
            "AV metric score for validation set is 659.2682763309061\n",
            "\n",
            "------------- Fold 5 -------------\n",
            "Training until validation scores don't improve for 200 rounds.\n",
            "[300]\tvalid_0's rmse: 0.715471\n",
            "[600]\tvalid_0's rmse: 0.679723\n",
            "[900]\tvalid_0's rmse: 0.673595\n",
            "[1200]\tvalid_0's rmse: 0.67125\n",
            "[1500]\tvalid_0's rmse: 0.669781\n",
            "[1800]\tvalid_0's rmse: 0.668865\n",
            "[2100]\tvalid_0's rmse: 0.668234\n",
            "[2400]\tvalid_0's rmse: 0.667704\n",
            "[2700]\tvalid_0's rmse: 0.667298\n",
            "[3000]\tvalid_0's rmse: 0.66679\n",
            "[3300]\tvalid_0's rmse: 0.666818\n",
            "Early stopping, best iteration is:\n",
            "[3131]\tvalid_0's rmse: 0.666603\n",
            "\n",
            "AV metric score for validation set is 666.6025207220915\n",
            "\n",
            "\n",
            "AV metric for oofs is 666.2989878134357\n"
          ],
          "name": "stdout"
        },
        {
          "output_type": "display_data",
          "data": {
            "image/png": "[encoded data removed]",
            "text/plain": [
              "<Figure size 864x432 with 1 Axes>"
            ]
          },
          "metadata": {
            "tags": []
          }
        }
      ]
    },
    {
      "cell_type": "code",
      "metadata": {
        "id": "oECPvKJ0MQvZ"
      },
      "source": [
        "lgb_preds_t = np.expm1(lgb_preds)\n",
        "# download_preds(lgb_preds_t, file_name = 's7_lgbm2.csv')\n",
        "# !mv s7_lgbm2.csv '/content/MyDrive/My Drive/Data Science/Analytics Vidhya/Hacklive 2 Guided Community Hackathon/Submission Files'"
      ],
      "execution_count": 82,
      "outputs": []
    },
    {
      "cell_type": "markdown",
      "metadata": {
        "id": "NjrYN9ZNRBDb"
      },
      "source": [
        "##6.4 CatBoostRegressor <a name = \"CatBoostRegressor\"></a>"
      ]
    },
    {
      "cell_type": "code",
      "metadata": {
        "id": "n1FWlbV4RAm9",
        "outputId": "3f19857b-2dd3-4241-a7d5-4385914aca4d",
        "colab": {
          "base_uri": "https://localhost:8080/",
          "height": 1000
        }
      },
      "source": [
        "model = CatBoostRegressor(n_estimators = 3000,\n",
        "                       learning_rate = 0.01,\n",
        "                       rsm = 0.4, ## Analogous to colsample_bytree\n",
        "                       random_state=2054,\n",
        "                       )\n",
        "\n",
        "fit_params = {'verbose': 200, 'early_stopping_rounds': 200}\n",
        "\n",
        "cb_oofs, cb_preds, fi = run_gradient_boosting(model, fit_params, train, test, cat_num_cols)"
      ],
      "execution_count": 83,
      "outputs": [
        {
          "output_type": "stream",
          "text": [
            "\n",
            "------------- Fold 1 -------------\n",
            "0:\tlearn: 1.9161623\ttest: 1.9077476\tbest: 1.9077476 (0)\ttotal: 8.08ms\tremaining: 24.2s\n",
            "200:\tlearn: 0.8395688\ttest: 0.8496237\tbest: 0.8496237 (200)\ttotal: 855ms\tremaining: 11.9s\n",
            "400:\tlearn: 0.7310593\ttest: 0.7459856\tbest: 0.7459856 (400)\ttotal: 1.7s\tremaining: 11s\n",
            "600:\tlearn: 0.7071283\ttest: 0.7225519\tbest: 0.7225519 (600)\ttotal: 2.54s\tremaining: 10.1s\n",
            "800:\tlearn: 0.6931874\ttest: 0.7085013\tbest: 0.7085013 (800)\ttotal: 3.36s\tremaining: 9.24s\n",
            "1000:\tlearn: 0.6828767\ttest: 0.6984767\tbest: 0.6984767 (1000)\ttotal: 4.26s\tremaining: 8.51s\n",
            "1200:\tlearn: 0.6741208\ttest: 0.6901979\tbest: 0.6901979 (1200)\ttotal: 5.1s\tremaining: 7.63s\n",
            "1400:\tlearn: 0.6664207\ttest: 0.6833039\tbest: 0.6833039 (1400)\ttotal: 5.99s\tremaining: 6.84s\n",
            "1600:\tlearn: 0.6604077\ttest: 0.6785152\tbest: 0.6785152 (1600)\ttotal: 6.83s\tremaining: 5.97s\n",
            "1800:\tlearn: 0.6554195\ttest: 0.6750037\tbest: 0.6750022 (1798)\ttotal: 7.66s\tremaining: 5.1s\n",
            "2000:\tlearn: 0.6510266\ttest: 0.6720600\tbest: 0.6720600 (2000)\ttotal: 8.5s\tremaining: 4.24s\n",
            "2200:\tlearn: 0.6472998\ttest: 0.6698285\tbest: 0.6698285 (2200)\ttotal: 9.32s\tremaining: 3.38s\n",
            "2400:\tlearn: 0.6437144\ttest: 0.6677292\tbest: 0.6677292 (2400)\ttotal: 10.2s\tremaining: 2.54s\n",
            "2600:\tlearn: 0.6407440\ttest: 0.6662027\tbest: 0.6662027 (2600)\ttotal: 11s\tremaining: 1.69s\n",
            "2800:\tlearn: 0.6377706\ttest: 0.6646979\tbest: 0.6646979 (2800)\ttotal: 11.9s\tremaining: 843ms\n",
            "2999:\tlearn: 0.6351824\ttest: 0.6635549\tbest: 0.6635549 (2999)\ttotal: 12.7s\tremaining: 0us\n",
            "\n",
            "bestTest = 0.6635549235\n",
            "bestIteration = 2999\n",
            "\n",
            "\n",
            "AV metric score for validation set is 663.5549291970533\n",
            "\n",
            "------------- Fold 2 -------------\n",
            "0:\tlearn: 1.9102145\ttest: 1.9279119\tbest: 1.9279119 (0)\ttotal: 5.01ms\tremaining: 15s\n",
            "200:\tlearn: 0.8420830\ttest: 0.8531764\tbest: 0.8531764 (200)\ttotal: 835ms\tremaining: 11.6s\n",
            "400:\tlearn: 0.7323036\ttest: 0.7432106\tbest: 0.7432106 (400)\ttotal: 1.68s\tremaining: 10.9s\n",
            "600:\tlearn: 0.7065721\ttest: 0.7198568\tbest: 0.7198568 (600)\ttotal: 2.52s\tremaining: 10.1s\n",
            "800:\tlearn: 0.6919000\ttest: 0.7074705\tbest: 0.7074705 (800)\ttotal: 3.34s\tremaining: 9.17s\n",
            "1000:\tlearn: 0.6806796\ttest: 0.6988214\tbest: 0.6988214 (1000)\ttotal: 4.18s\tremaining: 8.34s\n",
            "1200:\tlearn: 0.6710566\ttest: 0.6917759\tbest: 0.6917759 (1200)\ttotal: 5s\tremaining: 7.49s\n",
            "1400:\tlearn: 0.6632734\ttest: 0.6863852\tbest: 0.6863852 (1400)\ttotal: 5.83s\tremaining: 6.65s\n",
            "1600:\tlearn: 0.6571608\ttest: 0.6827061\tbest: 0.6827061 (1600)\ttotal: 6.67s\tremaining: 5.83s\n",
            "1800:\tlearn: 0.6517308\ttest: 0.6796638\tbest: 0.6796638 (1800)\ttotal: 7.51s\tremaining: 5s\n",
            "2000:\tlearn: 0.6470431\ttest: 0.6774109\tbest: 0.6774109 (2000)\ttotal: 8.33s\tremaining: 4.16s\n",
            "2200:\tlearn: 0.6432165\ttest: 0.6757123\tbest: 0.6757123 (2200)\ttotal: 9.16s\tremaining: 3.33s\n",
            "2400:\tlearn: 0.6395814\ttest: 0.6742337\tbest: 0.6742337 (2400)\ttotal: 10s\tremaining: 2.49s\n",
            "2600:\tlearn: 0.6363545\ttest: 0.6730176\tbest: 0.6730176 (2600)\ttotal: 10.8s\tremaining: 1.66s\n",
            "2800:\tlearn: 0.6333779\ttest: 0.6719525\tbest: 0.6719525 (2800)\ttotal: 11.7s\tremaining: 830ms\n",
            "2999:\tlearn: 0.6306638\ttest: 0.6709549\tbest: 0.6709549 (2999)\ttotal: 12.5s\tremaining: 0us\n",
            "\n",
            "bestTest = 0.6709548934\n",
            "bestIteration = 2999\n",
            "\n",
            "\n",
            "AV metric score for validation set is 670.9548966273591\n",
            "\n",
            "------------- Fold 3 -------------\n",
            "0:\tlearn: 1.9174119\ttest: 1.9024446\tbest: 1.9024446 (0)\ttotal: 4.74ms\tremaining: 14.2s\n",
            "200:\tlearn: 0.8413623\ttest: 0.8407082\tbest: 0.8407082 (200)\ttotal: 845ms\tremaining: 11.8s\n",
            "400:\tlearn: 0.7329084\ttest: 0.7355512\tbest: 0.7355512 (400)\ttotal: 1.69s\tremaining: 10.9s\n",
            "600:\tlearn: 0.7075750\ttest: 0.7125674\tbest: 0.7125674 (600)\ttotal: 2.5s\tremaining: 9.99s\n",
            "800:\tlearn: 0.6930811\ttest: 0.7000954\tbest: 0.7000954 (800)\ttotal: 3.33s\tremaining: 9.13s\n",
            "1000:\tlearn: 0.6828643\ttest: 0.6916706\tbest: 0.6916706 (1000)\ttotal: 4.19s\tremaining: 8.37s\n",
            "1200:\tlearn: 0.6734292\ttest: 0.6845233\tbest: 0.6845233 (1200)\ttotal: 5.03s\tremaining: 7.54s\n",
            "1400:\tlearn: 0.6655906\ttest: 0.6791123\tbest: 0.6791123 (1400)\ttotal: 5.87s\tremaining: 6.7s\n",
            "1600:\tlearn: 0.6593441\ttest: 0.6751888\tbest: 0.6751888 (1600)\ttotal: 6.71s\tremaining: 5.87s\n",
            "1800:\tlearn: 0.6541614\ttest: 0.6723404\tbest: 0.6723404 (1800)\ttotal: 7.53s\tremaining: 5.01s\n",
            "2000:\tlearn: 0.6496541\ttest: 0.6701184\tbest: 0.6701184 (2000)\ttotal: 8.37s\tremaining: 4.18s\n",
            "2200:\tlearn: 0.6454838\ttest: 0.6680138\tbest: 0.6680138 (2200)\ttotal: 9.21s\tremaining: 3.34s\n",
            "2400:\tlearn: 0.6420727\ttest: 0.6665008\tbest: 0.6665008 (2400)\ttotal: 10s\tremaining: 2.5s\n",
            "2600:\tlearn: 0.6389001\ttest: 0.6653767\tbest: 0.6653767 (2600)\ttotal: 10.9s\tremaining: 1.67s\n",
            "2800:\tlearn: 0.6360436\ttest: 0.6644582\tbest: 0.6644582 (2800)\ttotal: 11.7s\tremaining: 834ms\n",
            "2999:\tlearn: 0.6333470\ttest: 0.6636626\tbest: 0.6636611 (2998)\ttotal: 12.6s\tremaining: 0us\n",
            "\n",
            "bestTest = 0.6636611253\n",
            "bestIteration = 2998\n",
            "\n",
            "Shrink model to first 2999 iterations.\n",
            "\n",
            "AV metric score for validation set is 663.6611273354283\n",
            "\n",
            "------------- Fold 4 -------------\n",
            "0:\tlearn: 1.9148456\ttest: 1.9132496\tbest: 1.9132496 (0)\ttotal: 9.28ms\tremaining: 27.8s\n",
            "200:\tlearn: 0.8431977\ttest: 0.8412562\tbest: 0.8412562 (200)\ttotal: 829ms\tremaining: 11.5s\n",
            "400:\tlearn: 0.7337310\ttest: 0.7331794\tbest: 0.7331794 (400)\ttotal: 1.66s\tremaining: 10.8s\n",
            "600:\tlearn: 0.7090460\ttest: 0.7097344\tbest: 0.7097344 (600)\ttotal: 2.56s\tremaining: 10.2s\n",
            "800:\tlearn: 0.6947106\ttest: 0.6971549\tbest: 0.6971549 (800)\ttotal: 3.41s\tremaining: 9.36s\n",
            "1000:\tlearn: 0.6838026\ttest: 0.6884343\tbest: 0.6884343 (1000)\ttotal: 4.22s\tremaining: 8.43s\n",
            "1200:\tlearn: 0.6744362\ttest: 0.6816071\tbest: 0.6816071 (1200)\ttotal: 5.06s\tremaining: 7.57s\n",
            "1400:\tlearn: 0.6663815\ttest: 0.6761546\tbest: 0.6761546 (1400)\ttotal: 5.88s\tremaining: 6.71s\n",
            "1600:\tlearn: 0.6600768\ttest: 0.6723614\tbest: 0.6723614 (1600)\ttotal: 6.7s\tremaining: 5.85s\n",
            "1800:\tlearn: 0.6546965\ttest: 0.6691065\tbest: 0.6691065 (1800)\ttotal: 7.54s\tremaining: 5.02s\n",
            "2000:\tlearn: 0.6500713\ttest: 0.6667331\tbest: 0.6667331 (2000)\ttotal: 8.37s\tremaining: 4.18s\n",
            "2200:\tlearn: 0.6460904\ttest: 0.6646946\tbest: 0.6646946 (2200)\ttotal: 9.22s\tremaining: 3.35s\n",
            "2400:\tlearn: 0.6425891\ttest: 0.6630004\tbest: 0.6630004 (2400)\ttotal: 10.1s\tremaining: 2.51s\n",
            "2600:\tlearn: 0.6395186\ttest: 0.6618048\tbest: 0.6618048 (2600)\ttotal: 10.9s\tremaining: 1.67s\n",
            "2800:\tlearn: 0.6367622\ttest: 0.6605738\tbest: 0.6605738 (2800)\ttotal: 11.7s\tremaining: 833ms\n",
            "2999:\tlearn: 0.6341184\ttest: 0.6596705\tbest: 0.6596705 (2999)\ttotal: 12.6s\tremaining: 0us\n",
            "\n",
            "bestTest = 0.6596704874\n",
            "bestIteration = 2999\n",
            "\n",
            "\n",
            "AV metric score for validation set is 659.6704917786057\n",
            "\n",
            "------------- Fold 5 -------------\n",
            "0:\tlearn: 1.9129559\ttest: 1.9205938\tbest: 1.9205938 (0)\ttotal: 4.51ms\tremaining: 13.5s\n",
            "200:\tlearn: 0.8411112\ttest: 0.8465135\tbest: 0.8465135 (200)\ttotal: 839ms\tremaining: 11.7s\n",
            "400:\tlearn: 0.7318725\ttest: 0.7387401\tbest: 0.7387401 (400)\ttotal: 1.68s\tremaining: 10.9s\n",
            "600:\tlearn: 0.7067608\ttest: 0.7158236\tbest: 0.7158236 (600)\ttotal: 2.51s\tremaining: 10s\n",
            "800:\tlearn: 0.6920012\ttest: 0.7031806\tbest: 0.7031806 (800)\ttotal: 3.34s\tremaining: 9.18s\n",
            "1000:\tlearn: 0.6812983\ttest: 0.6946471\tbest: 0.6946471 (1000)\ttotal: 4.18s\tremaining: 8.35s\n",
            "1200:\tlearn: 0.6721317\ttest: 0.6875761\tbest: 0.6875761 (1200)\ttotal: 4.99s\tremaining: 7.48s\n",
            "1400:\tlearn: 0.6647845\ttest: 0.6824983\tbest: 0.6824983 (1400)\ttotal: 5.83s\tremaining: 6.66s\n",
            "1600:\tlearn: 0.6586835\ttest: 0.6787441\tbest: 0.6787441 (1600)\ttotal: 6.66s\tremaining: 5.82s\n",
            "1800:\tlearn: 0.6537257\ttest: 0.6760045\tbest: 0.6760045 (1800)\ttotal: 7.5s\tremaining: 4.99s\n",
            "2000:\tlearn: 0.6493984\ttest: 0.6737584\tbest: 0.6737584 (2000)\ttotal: 8.34s\tremaining: 4.17s\n",
            "2200:\tlearn: 0.6456967\ttest: 0.6719438\tbest: 0.6719438 (2200)\ttotal: 9.18s\tremaining: 3.33s\n",
            "2400:\tlearn: 0.6422959\ttest: 0.6705308\tbest: 0.6705308 (2400)\ttotal: 10s\tremaining: 2.5s\n",
            "2600:\tlearn: 0.6392454\ttest: 0.6693295\tbest: 0.6693295 (2600)\ttotal: 10.8s\tremaining: 1.66s\n",
            "2800:\tlearn: 0.6363476\ttest: 0.6683361\tbest: 0.6683361 (2800)\ttotal: 11.7s\tremaining: 830ms\n",
            "2999:\tlearn: 0.6336030\ttest: 0.6673032\tbest: 0.6673032 (2999)\ttotal: 12.5s\tremaining: 0us\n",
            "\n",
            "bestTest = 0.6673031753\n",
            "bestIteration = 2999\n",
            "\n",
            "\n",
            "AV metric score for validation set is 667.3031740566428\n",
            "\n",
            "\n",
            "AV metric for oofs is 665.039850627486\n"
          ],
          "name": "stdout"
        },
        {
          "output_type": "display_data",
          "data": {
            "image/png": "[encoded data removed]",
            "text/plain": [
              "<Figure size 864x432 with 1 Axes>"
            ]
          },
          "metadata": {
            "tags": []
          }
        }
      ]
    },
    {
      "cell_type": "code",
      "metadata": {
        "id": "yV7njJkTRKJ7"
      },
      "source": [
        "cb_preds_t = np.expm1(cb_preds)\n",
        "# download_preds(cb_preds_t, file_name = 's8_cb1.csv')\n",
        "# !mv s8_cb1.csv '/content/MyDrive/My Drive/Data Science/Analytics Vidhya/Hacklive 2 Guided Community Hackathon/Submission Files'"
      ],
      "execution_count": 84,
      "outputs": []
    },
    {
      "cell_type": "markdown",
      "metadata": {
        "id": "FORjHjLvTQtM"
      },
      "source": [
        "#7. Feature Engineering <a name = \"Feature_Engineering\"></a>"
      ]
    },
    {
      "cell_type": "markdown",
      "metadata": {
        "id": "ENq5fW84TfMr"
      },
      "source": [
        "##7.1 Helper Functions <a name = \"Helper_Functions\"></a>"
      ]
    },
    {
      "cell_type": "code",
      "metadata": {
        "id": "PONHnmhRTT3K"
      },
      "source": [
        "test = pd.read_csv('/content/MyDrive/My Drive/Data Science/Analytics Vidhya/Hacklive 2 Guided Community Hackathon/Data/test.csv')\n",
        "train = pd.read_csv('/content/MyDrive/My Drive/Data Science/Analytics Vidhya/Hacklive 2 Guided Community Hackathon/Data/train.csv')\n",
        "\n",
        "def join_df(train, test):\n",
        "\n",
        "  df = pd.concat([train, test], axis=0).reset_index(drop = True)\n",
        "  features = [c for c in df.columns if c not in [ID_COL, TARGET_COL]]\n",
        "  df[num_cols + ['likes']] = df[num_cols + ['likes']].apply(lambda x: np.log1p(x))\n",
        "\n",
        "  return df, features\n",
        "\n",
        "def split_df_and_get_features(df, train_nrows):\n",
        "\n",
        "  train, test = df[:train_nrows].reset_index(drop = True), df[train_nrows:].reset_index(drop = True)\n",
        "  features = [c for c in train.columns if c not in [ID_COL, TARGET_COL]]\n",
        "  \n",
        "  return train, test, features\n",
        "\n",
        "df, features = join_df(train, test)\n",
        "\n",
        "cat_cols = ['category_id', 'country_code', 'channel_title']\n",
        "\n",
        "#Label Encoding\n",
        "df[cat_cols] = df[cat_cols].apply(lambda x: pd.factorize(x)[0])"
      ],
      "execution_count": 85,
      "outputs": []
    },
    {
      "cell_type": "markdown",
      "metadata": {
        "id": "YBzD7rfYUQ0U"
      },
      "source": [
        "##7.2 DateTime Features <a name = \"DateTime Features\"></a>"
      ]
    },
    {
      "cell_type": "code",
      "metadata": {
        "id": "H_a1vlY-T4s8"
      },
      "source": [
        "df['publish_date'] = pd.to_datetime(df['publish_date'], format='%Y-%m-%d')\n",
        "df['publish_date_days_since_start'] = (df['publish_date'] - df['publish_date'].min()).dt.days\n",
        "\n",
        "df['publish_date_day_of_week'] = df['publish_date'].dt.dayofweek\n",
        "df['publish_date_year'] = df['publish_date'].dt.year\n",
        "df['publish_date_month'] = df['publish_date'].dt.month\n",
        "df['publish_date_week'] = df['publish_date'].dt.isocalendar().week  "
      ],
      "execution_count": 86,
      "outputs": []
    },
    {
      "cell_type": "markdown",
      "metadata": {
        "id": "3T3ADn-RUjhR"
      },
      "source": [
        "##7.3 Channel Title <a name = \"Channel_Title\"></a>"
      ]
    },
    {
      "cell_type": "code",
      "metadata": {
        "id": "wVVn60u8UZq7"
      },
      "source": [
        "df['channel_title_num_videos'] = df['channel_title'].map(df['channel_title'].value_counts())\n",
        "df['publish_date_num_videos'] = df['publish_date'].map(df['publish_date'].value_counts())\n",
        "df['channel_in_n_countries'] = df.groupby('channel_title')['country_code'].transform('nunique')"
      ],
      "execution_count": 87,
      "outputs": []
    },
    {
      "cell_type": "markdown",
      "metadata": {
        "id": "KSHv-LkKU2nM"
      },
      "source": [
        "##7.4 Views and Comment Counts <a name = \"Views_and_Comment_Counts\"></a>"
      ]
    },
    {
      "cell_type": "code",
      "metadata": {
        "id": "BPYX6HKNUqAr"
      },
      "source": [
        "#Grouping Features\n",
        "\n",
        "df['channel_title_mean_views'] = df.groupby('channel_title')['views'].transform('mean')\n",
        "df['channel_title_max_views'] = df.groupby('channel_title')['views'].transform('max')\n",
        "df['channel_title_min_views'] = df.groupby('channel_title')['views'].transform('min')\n",
        "\n",
        "df['channel_title_mean_comments'] = df.groupby('channel_title')['comment_count'].transform('mean')\n",
        "df['channel_title_max_comments'] = df.groupby('channel_title')['comment_count'].transform('max')\n",
        "df['channel_title_min_comments'] = df.groupby('channel_title')['comment_count'].transform('min')\n",
        "\n",
        "df['channel_title_mean_dislikes'] = df.groupby('channel_title')['dislikes'].transform('mean')\n",
        "df['channel_title_max_dislikes'] = df.groupby('channel_title')['dislikes'].transform('max')\n",
        "df['channel_title_min_dislikes'] = df.groupby('channel_title')['dislikes'].transform('min')"
      ],
      "execution_count": 88,
      "outputs": []
    },
    {
      "cell_type": "markdown",
      "metadata": {
        "id": "And7FSHIVDcT"
      },
      "source": [
        "##7.5 Text Data <a name = \"Text_Data\"></a>"
      ]
    },
    {
      "cell_type": "code",
      "metadata": {
        "id": "0KtyCRibU-f0"
      },
      "source": [
        "df['title_len'] = df['title'].apply(lambda x: len(x))\n",
        "df['description_len'] = df['description'].apply(lambda x: len(x))\n",
        "df['tags_len'] = df['tags'].apply(lambda x: len(x))"
      ],
      "execution_count": 89,
      "outputs": []
    },
    {
      "cell_type": "code",
      "metadata": {
        "id": "17QXR3P7VIiU"
      },
      "source": [
        "TOP_N_WORDS = 50\n",
        "\n",
        "vec = CountVectorizer(max_features = TOP_N_WORDS)\n",
        "txt_to_fts = vec.fit_transform(df['description']).toarray()\n",
        "txt_to_fts.shape\n",
        "\n",
        "c = 'description'\n",
        "txt_fts_names = [c + f'_word_{i}_count' for i in range(TOP_N_WORDS)]\n",
        "df[txt_fts_names] = txt_to_fts\n",
        "\n",
        "train, test, features = split_df_and_get_features(df, train.shape[0])\n",
        "features = [c for c in df.columns if c not in [ID_COL, TARGET_COL]]\n",
        "cat_num_cols = [c for c in features if c not in ['title', 'tags', 'description', 'publish_date']]"
      ],
      "execution_count": 90,
      "outputs": []
    },
    {
      "cell_type": "code",
      "metadata": {
        "id": "WHCD9uydmamR",
        "outputId": "bb9b35f3-dec2-40f2-9c2d-24cc0946ea62",
        "colab": {
          "base_uri": "https://localhost:8080/",
          "height": 282
        }
      },
      "source": [
        "df.head(1)"
      ],
      "execution_count": 91,
      "outputs": [
        {
          "output_type": "execute_result",
          "data": {
            "text/html": [
              "<div>\n",
              "<style scoped>\n",
              "    .dataframe tbody tr th:only-of-type {\n",
              "        vertical-align: middle;\n",
              "    }\n",
              "\n",
              "    .dataframe tbody tr th {\n",
              "        vertical-align: top;\n",
              "    }\n",
              "\n",
              "    .dataframe thead th {\n",
              "        text-align: right;\n",
              "    }\n",
              "</style>\n",
              "<table border=\"1\" class=\"dataframe\">\n",
              "  <thead>\n",
              "    <tr style=\"text-align: right;\">\n",
              "      <th></th>\n",
              "      <th>video_id</th>\n",
              "      <th>title</th>\n",
              "      <th>channel_title</th>\n",
              "      <th>category_id</th>\n",
              "      <th>publish_date</th>\n",
              "      <th>tags</th>\n",
              "      <th>views</th>\n",
              "      <th>dislikes</th>\n",
              "      <th>comment_count</th>\n",
              "      <th>description</th>\n",
              "      <th>country_code</th>\n",
              "      <th>likes</th>\n",
              "      <th>publish_date_days_since_start</th>\n",
              "      <th>publish_date_day_of_week</th>\n",
              "      <th>publish_date_year</th>\n",
              "      <th>publish_date_month</th>\n",
              "      <th>publish_date_week</th>\n",
              "      <th>channel_title_num_videos</th>\n",
              "      <th>publish_date_num_videos</th>\n",
              "      <th>channel_in_n_countries</th>\n",
              "      <th>channel_title_mean_views</th>\n",
              "      <th>channel_title_max_views</th>\n",
              "      <th>channel_title_min_views</th>\n",
              "      <th>channel_title_mean_comments</th>\n",
              "      <th>channel_title_max_comments</th>\n",
              "      <th>channel_title_min_comments</th>\n",
              "      <th>channel_title_mean_dislikes</th>\n",
              "      <th>channel_title_max_dislikes</th>\n",
              "      <th>channel_title_min_dislikes</th>\n",
              "      <th>title_len</th>\n",
              "      <th>description_len</th>\n",
              "      <th>tags_len</th>\n",
              "      <th>description_word_0_count</th>\n",
              "      <th>description_word_1_count</th>\n",
              "      <th>description_word_2_count</th>\n",
              "      <th>description_word_3_count</th>\n",
              "      <th>description_word_4_count</th>\n",
              "      <th>description_word_5_count</th>\n",
              "      <th>description_word_6_count</th>\n",
              "      <th>description_word_7_count</th>\n",
              "      <th>...</th>\n",
              "      <th>description_word_10_count</th>\n",
              "      <th>description_word_11_count</th>\n",
              "      <th>description_word_12_count</th>\n",
              "      <th>description_word_13_count</th>\n",
              "      <th>description_word_14_count</th>\n",
              "      <th>description_word_15_count</th>\n",
              "      <th>description_word_16_count</th>\n",
              "      <th>description_word_17_count</th>\n",
              "      <th>description_word_18_count</th>\n",
              "      <th>description_word_19_count</th>\n",
              "      <th>description_word_20_count</th>\n",
              "      <th>description_word_21_count</th>\n",
              "      <th>description_word_22_count</th>\n",
              "      <th>description_word_23_count</th>\n",
              "      <th>description_word_24_count</th>\n",
              "      <th>description_word_25_count</th>\n",
              "      <th>description_word_26_count</th>\n",
              "      <th>description_word_27_count</th>\n",
              "      <th>description_word_28_count</th>\n",
              "      <th>description_word_29_count</th>\n",
              "      <th>description_word_30_count</th>\n",
              "      <th>description_word_31_count</th>\n",
              "      <th>description_word_32_count</th>\n",
              "      <th>description_word_33_count</th>\n",
              "      <th>description_word_34_count</th>\n",
              "      <th>description_word_35_count</th>\n",
              "      <th>description_word_36_count</th>\n",
              "      <th>description_word_37_count</th>\n",
              "      <th>description_word_38_count</th>\n",
              "      <th>description_word_39_count</th>\n",
              "      <th>description_word_40_count</th>\n",
              "      <th>description_word_41_count</th>\n",
              "      <th>description_word_42_count</th>\n",
              "      <th>description_word_43_count</th>\n",
              "      <th>description_word_44_count</th>\n",
              "      <th>description_word_45_count</th>\n",
              "      <th>description_word_46_count</th>\n",
              "      <th>description_word_47_count</th>\n",
              "      <th>description_word_48_count</th>\n",
              "      <th>description_word_49_count</th>\n",
              "    </tr>\n",
              "  </thead>\n",
              "  <tbody>\n",
              "    <tr>\n",
              "      <th>0</th>\n",
              "      <td>53364</td>\n",
              "      <td>Alif Allah Aur Insaan Episode 34 HUM TV Drama ...</td>\n",
              "      <td>0</td>\n",
              "      <td>0</td>\n",
              "      <td>2017-12-12</td>\n",
              "      <td>HUM|\"TV\"|\"Alif Allah Aur Insaan\"|\"Episode 34\"|...</td>\n",
              "      <td>12.769769</td>\n",
              "      <td>5.700444</td>\n",
              "      <td>6.803505</td>\n",
              "      <td>Alif Allah Aur Insaan Episode 34 Full - 12 Dec...</td>\n",
              "      <td>0</td>\n",
              "      <td>7.763021</td>\n",
              "      <td>4160</td>\n",
              "      <td>1</td>\n",
              "      <td>2017</td>\n",
              "      <td>12</td>\n",
              "      <td>50</td>\n",
              "      <td>94</td>\n",
              "      <td>220</td>\n",
              "      <td>2</td>\n",
              "      <td>12.621135</td>\n",
              "      <td>13.660803</td>\n",
              "      <td>11.460505</td>\n",
              "      <td>6.271691</td>\n",
              "      <td>8.29355</td>\n",
              "      <td>4.477337</td>\n",
              "      <td>5.166463</td>\n",
              "      <td>6.486161</td>\n",
              "      <td>3.465736</td>\n",
              "      <td>64</td>\n",
              "      <td>1030</td>\n",
              "      <td>187</td>\n",
              "      <td>0</td>\n",
              "      <td>3</td>\n",
              "      <td>0</td>\n",
              "      <td>2</td>\n",
              "      <td>0</td>\n",
              "      <td>0</td>\n",
              "      <td>1</td>\n",
              "      <td>2</td>\n",
              "      <td>...</td>\n",
              "      <td>1</td>\n",
              "      <td>0</td>\n",
              "      <td>0</td>\n",
              "      <td>0</td>\n",
              "      <td>0</td>\n",
              "      <td>0</td>\n",
              "      <td>0</td>\n",
              "      <td>2</td>\n",
              "      <td>1</td>\n",
              "      <td>2</td>\n",
              "      <td>0</td>\n",
              "      <td>0</td>\n",
              "      <td>0</td>\n",
              "      <td>0</td>\n",
              "      <td>0</td>\n",
              "      <td>0</td>\n",
              "      <td>0</td>\n",
              "      <td>0</td>\n",
              "      <td>0</td>\n",
              "      <td>2</td>\n",
              "      <td>1</td>\n",
              "      <td>0</td>\n",
              "      <td>0</td>\n",
              "      <td>0</td>\n",
              "      <td>0</td>\n",
              "      <td>0</td>\n",
              "      <td>1</td>\n",
              "      <td>0</td>\n",
              "      <td>0</td>\n",
              "      <td>7</td>\n",
              "      <td>0</td>\n",
              "      <td>0</td>\n",
              "      <td>0</td>\n",
              "      <td>0</td>\n",
              "      <td>1</td>\n",
              "      <td>1</td>\n",
              "      <td>2</td>\n",
              "      <td>0</td>\n",
              "      <td>0</td>\n",
              "      <td>2</td>\n",
              "    </tr>\n",
              "  </tbody>\n",
              "</table>\n",
              "<p>1 rows × 82 columns</p>\n",
              "</div>"
            ],
            "text/plain": [
              "   video_id  ... description_word_49_count\n",
              "0     53364  ...                         2\n",
              "\n",
              "[1 rows x 82 columns]"
            ]
          },
          "metadata": {
            "tags": []
          },
          "execution_count": 91
        }
      ]
    },
    {
      "cell_type": "markdown",
      "metadata": {
        "id": "P4NQbvktpEr2"
      },
      "source": [
        "##7.6 NLP <a name = \"NLP\"></a>"
      ]
    },
    {
      "cell_type": "markdown",
      "metadata": {
        "id": "iXT3OSPOpvr5"
      },
      "source": [
        "###7.6.1 Text Preprocessing <a name = \"Text_Preprocessing\"></a>"
      ]
    },
    {
      "cell_type": "code",
      "metadata": {
        "id": "rK92IGC5pLTT"
      },
      "source": [
        "def utils_preprocess_text(text, flg_stemm=False, flg_lemm=True):\n",
        "\n",
        "    lst_stopwords = nltk.corpus.stopwords.words(\"english\")\n",
        "    \n",
        "    ## clean (convert to lowercase and remove punctuations and characters and then strip)\n",
        "    text = re.sub(r'[^\\w\\s]', '', str(text).lower().strip())\n",
        "            \n",
        "    ## Tokenize (convert from string to list)\n",
        "    lst_text = text.split()\n",
        "    ## remove Stopwords\n",
        "    if lst_stopwords is not None:\n",
        "        lst_text = [word for word in lst_text if word not in \n",
        "                    lst_stopwords]\n",
        "                \n",
        "    ## Stemming (remove -ing, -ly, ...)\n",
        "    if flg_stemm == True:\n",
        "        ps = nltk.stem.porter.PorterStemmer()\n",
        "        lst_text = [ps.stem(word) for word in lst_text]\n",
        "                \n",
        "    ## Lemmatisation (convert the word into root word)\n",
        "    if flg_lemm == True:\n",
        "        lem = nltk.stem.wordnet.WordNetLemmatizer()    \n",
        "        lst_text = [lem.lemmatize(word) for word in lst_text]\n",
        "            \n",
        "    ## back to string from list\n",
        "    text = \" \".join(lst_text)\n",
        "    return text"
      ],
      "execution_count": 92,
      "outputs": []
    },
    {
      "cell_type": "code",
      "metadata": {
        "id": "3l9C8fgZq9_d"
      },
      "source": [
        "#Clean Text\n",
        "\n",
        "df[\"clean_title\"] = df[\"title\"].apply(lambda x: utils_preprocess_text(x, flg_stemm=False, flg_lemm=True, ))\n",
        "df[\"clean_tags\"] = df[\"tags\"].apply(lambda x: utils_preprocess_text(x, flg_stemm=False, flg_lemm=True, ))\n",
        "df[\"clean_description\"] = df[\"description\"].apply(lambda x: utils_preprocess_text(x, flg_stemm=False, flg_lemm=True, ))"
      ],
      "execution_count": 93,
      "outputs": []
    },
    {
      "cell_type": "markdown",
      "metadata": {
        "id": "PGStfeeoXuVk"
      },
      "source": [
        "###7.6.2 Count <a name = \"Count\"></a>"
      ]
    },
    {
      "cell_type": "code",
      "metadata": {
        "id": "ifvqt-u89U1g"
      },
      "source": [
        "#Word Count\n",
        "df['clean_title_word_count'] = df[\"clean_title\"].apply(lambda x: len(str(x).split(\" \")))\n",
        "df['clean_tags_word_count'] = df[\"clean_tags\"].apply(lambda x: len(str(x).split(\" \")))\n",
        "df['clean_description_word_count'] = df[\"clean_description\"].apply(lambda x: len(str(x).split(\" \")))\n",
        "\n",
        "#Character Count\n",
        "df['clean_title_char_count'] = df[\"clean_title\"].apply(lambda x: sum(len(word) for word in str(x).split(\" \")))\n",
        "df['clean_tags_char_count'] = df[\"clean_tags\"].apply(lambda x: sum(len(word) for word in str(x).split(\" \")))\n",
        "df['clean_description_char_count'] = df[\"clean_description\"].apply(lambda x: sum(len(word) for word in str(x).split(\" \")))\n",
        "\n",
        "#Sentence Count    \n",
        "df['clean_description_sentence_count'] = df[\"clean_description\"].apply(lambda x: len(str(x).split(\".\")))\n",
        "\n",
        "#Average Word Length\n",
        "df['clean_title_avg_word_length'] = df['clean_title_char_count'] / df['clean_title_word_count']\n",
        "df['clean_tags_avg_word_length'] = df['clean_tags_char_count'] / df['clean_tags_word_count']\n",
        "df['clean_description_avg_word_length'] = df['clean_description_char_count'] / df['clean_description_word_count']\n",
        "\n",
        "#Average Sentence Length\n",
        "df['clean_description_avg_sentence_length'] = df['clean_description_word_count'] / df['clean_description_sentence_count']"
      ],
      "execution_count": 94,
      "outputs": []
    },
    {
      "cell_type": "markdown",
      "metadata": {
        "id": "jsHqOc-CX1ob"
      },
      "source": [
        "###7.6.3 Sentiment Analysis <a name = \"Sentiment_Analysis\"></a>"
      ]
    },
    {
      "cell_type": "code",
      "metadata": {
        "id": "zEgytYdcP8Lv"
      },
      "source": [
        "#Sentiment Analysis\n",
        "\n",
        "df[\"clean_title_sentiment\"] = df['clean_title'].apply(lambda x: TextBlob(x).sentiment.polarity)\n",
        "df[\"clean_tags_sentiment\"] = df['clean_tags'].apply(lambda x: TextBlob(x).sentiment.polarity)\n",
        "df[\"clean_description_sentiment\"] = df['clean_description'].apply(lambda x: TextBlob(x).sentiment.polarity)"
      ],
      "execution_count": 95,
      "outputs": []
    },
    {
      "cell_type": "markdown",
      "metadata": {
        "id": "pAuCjJNhYVGu"
      },
      "source": [
        "###7.6.4 Capitalized Words <a name = \"Capitalized_Words\"></a>"
      ]
    },
    {
      "cell_type": "code",
      "metadata": {
        "id": "8aa9SUFtZGiA"
      },
      "source": [
        "#Capitalized Word\n",
        "\n",
        "def contains_capitalized_word(s):\n",
        "    for w in s.split():\n",
        "        if w.isupper():\n",
        "            return 1\n",
        "    return 0\n",
        "\n",
        "df[\"clean_title_capital\"] = df['clean_title'].apply(contains_capitalized_word)\n",
        "df[\"clean_description_capital\"] = df['clean_description'].apply(contains_capitalized_word)"
      ],
      "execution_count": 96,
      "outputs": []
    },
    {
      "cell_type": "code",
      "metadata": {
        "id": "YWy8GpaNL2E9"
      },
      "source": [
        "train, test, features = split_df_and_get_features(df, train.shape[0])\n",
        "features = [c for c in df.columns if c not in [ID_COL, TARGET_COL]]\n",
        "cat_num_cols = [c for c in features if c not in ['title', 'tags', 'description', 'publish_date', 'clean_title', 'clean_tags', 'clean_description']]"
      ],
      "execution_count": 99,
      "outputs": []
    },
    {
      "cell_type": "markdown",
      "metadata": {
        "id": "mOB2a7gIXpCw"
      },
      "source": [
        "#8. Feature Engineering Models <a name = \"Feature_Engineering_Models\"></a>"
      ]
    },
    {
      "cell_type": "markdown",
      "metadata": {
        "id": "6HsFvHWZXzZL"
      },
      "source": [
        "##8.1 LGBMRegressor <a name = \"FE_LGBMRegressor\"></a>"
      ]
    },
    {
      "cell_type": "code",
      "metadata": {
        "id": "EiuHRzeQVdeE",
        "outputId": "bd681b07-9331-4089-956f-719ea0d887a9",
        "colab": {
          "base_uri": "https://localhost:8080/",
          "height": 1000
        }
      },
      "source": [
        "model = LGBMRegressor(n_estimators = 5000,\n",
        "                        learning_rate = 0.05,    \n",
        "                        colsample_bytree = 0.65,\n",
        "                        metric = 'None',\n",
        "                        num_leaves = 50, \n",
        "                       \n",
        "                       )\n",
        "fit_params = {'verbose': 300, 'early_stopping_rounds': 200, 'eval_metric': 'rmse'}\n",
        "\n",
        "lgb_oofs, lgb_preds_50, fi = run_gradient_boosting(model, fit_params, train, test, cat_num_cols)"
      ],
      "execution_count": 100,
      "outputs": [
        {
          "output_type": "stream",
          "text": [
            "\n",
            "------------- Fold 1 -------------\n",
            "Training until validation scores don't improve for 200 rounds.\n",
            "[300]\tvalid_0's rmse: 0.517129\n",
            "[600]\tvalid_0's rmse: 0.500386\n",
            "[900]\tvalid_0's rmse: 0.493148\n",
            "[1200]\tvalid_0's rmse: 0.488624\n",
            "[1500]\tvalid_0's rmse: 0.48664\n",
            "[1800]\tvalid_0's rmse: 0.48542\n",
            "[2100]\tvalid_0's rmse: 0.484519\n",
            "[2400]\tvalid_0's rmse: 0.483914\n",
            "[2700]\tvalid_0's rmse: 0.483401\n",
            "[3000]\tvalid_0's rmse: 0.483116\n",
            "[3300]\tvalid_0's rmse: 0.482774\n",
            "[3600]\tvalid_0's rmse: 0.4826\n",
            "[3900]\tvalid_0's rmse: 0.482483\n",
            "[4200]\tvalid_0's rmse: 0.482412\n",
            "[4500]\tvalid_0's rmse: 0.482275\n",
            "[4800]\tvalid_0's rmse: 0.482198\n",
            "Did not meet early stopping. Best iteration is:\n",
            "[4989]\tvalid_0's rmse: 0.482151\n",
            "\n",
            "AV metric score for validation set is 482.15062440618226\n",
            "\n",
            "------------- Fold 2 -------------\n",
            "Training until validation scores don't improve for 200 rounds.\n",
            "[300]\tvalid_0's rmse: 0.510815\n",
            "[600]\tvalid_0's rmse: 0.494911\n",
            "[900]\tvalid_0's rmse: 0.489053\n",
            "[1200]\tvalid_0's rmse: 0.485942\n",
            "[1500]\tvalid_0's rmse: 0.484359\n",
            "[1800]\tvalid_0's rmse: 0.483515\n",
            "[2100]\tvalid_0's rmse: 0.483022\n",
            "[2400]\tvalid_0's rmse: 0.482722\n",
            "[2700]\tvalid_0's rmse: 0.482545\n",
            "[3000]\tvalid_0's rmse: 0.482388\n",
            "[3300]\tvalid_0's rmse: 0.482314\n",
            "[3600]\tvalid_0's rmse: 0.482285\n",
            "Early stopping, best iteration is:\n",
            "[3411]\tvalid_0's rmse: 0.482249\n",
            "\n",
            "AV metric score for validation set is 482.2493391097935\n",
            "\n",
            "------------- Fold 3 -------------\n",
            "Training until validation scores don't improve for 200 rounds.\n",
            "[300]\tvalid_0's rmse: 0.500809\n",
            "[600]\tvalid_0's rmse: 0.484853\n",
            "[900]\tvalid_0's rmse: 0.479502\n",
            "[1200]\tvalid_0's rmse: 0.476465\n",
            "[1500]\tvalid_0's rmse: 0.475186\n",
            "[1800]\tvalid_0's rmse: 0.474134\n",
            "[2100]\tvalid_0's rmse: 0.473456\n",
            "[2400]\tvalid_0's rmse: 0.473237\n",
            "[2700]\tvalid_0's rmse: 0.472934\n",
            "[3000]\tvalid_0's rmse: 0.472645\n",
            "[3300]\tvalid_0's rmse: 0.472594\n",
            "[3600]\tvalid_0's rmse: 0.472351\n",
            "[3900]\tvalid_0's rmse: 0.472292\n",
            "Early stopping, best iteration is:\n",
            "[3780]\tvalid_0's rmse: 0.472269\n",
            "\n",
            "AV metric score for validation set is 472.26859187121136\n",
            "\n",
            "------------- Fold 4 -------------\n",
            "Training until validation scores don't improve for 200 rounds.\n",
            "[300]\tvalid_0's rmse: 0.496983\n",
            "[600]\tvalid_0's rmse: 0.480568\n",
            "[900]\tvalid_0's rmse: 0.47499\n",
            "[1200]\tvalid_0's rmse: 0.472365\n",
            "[1500]\tvalid_0's rmse: 0.470383\n",
            "[1800]\tvalid_0's rmse: 0.46951\n",
            "[2100]\tvalid_0's rmse: 0.468826\n",
            "[2400]\tvalid_0's rmse: 0.468255\n",
            "[2700]\tvalid_0's rmse: 0.468023\n",
            "[3000]\tvalid_0's rmse: 0.467675\n",
            "[3300]\tvalid_0's rmse: 0.46758\n",
            "Early stopping, best iteration is:\n",
            "[3157]\tvalid_0's rmse: 0.467558\n",
            "\n",
            "AV metric score for validation set is 467.5578278506749\n",
            "\n",
            "------------- Fold 5 -------------\n",
            "Training until validation scores don't improve for 200 rounds.\n",
            "[300]\tvalid_0's rmse: 0.509453\n",
            "[600]\tvalid_0's rmse: 0.492765\n",
            "[900]\tvalid_0's rmse: 0.486141\n",
            "[1200]\tvalid_0's rmse: 0.483586\n",
            "[1500]\tvalid_0's rmse: 0.482205\n",
            "[1800]\tvalid_0's rmse: 0.481055\n",
            "[2100]\tvalid_0's rmse: 0.480407\n",
            "[2400]\tvalid_0's rmse: 0.480046\n",
            "[2700]\tvalid_0's rmse: 0.479748\n",
            "[3000]\tvalid_0's rmse: 0.47952\n",
            "[3300]\tvalid_0's rmse: 0.479202\n",
            "[3600]\tvalid_0's rmse: 0.479114\n",
            "[3900]\tvalid_0's rmse: 0.479054\n",
            "Early stopping, best iteration is:\n",
            "[3817]\tvalid_0's rmse: 0.479026\n",
            "\n",
            "AV metric score for validation set is 479.02554752579954\n",
            "\n",
            "\n",
            "AV metric for oofs is 476.6860760331174\n"
          ],
          "name": "stdout"
        },
        {
          "output_type": "display_data",
          "data": {
            "image/png": "[encoded data removed]",
            "text/plain": [
              "<Figure size 864x432 with 1 Axes>"
            ]
          },
          "metadata": {
            "tags": []
          }
        }
      ]
    },
    {
      "cell_type": "code",
      "metadata": {
        "id": "3-lGzkLFWD_V"
      },
      "source": [
        "lgb_preds_t = np.expm1(lgb_preds)\n",
        "# download_preds(lgb_preds_t, file_name = 's27 _lgbm_featureEng_colsample0.75.csv')    \n",
        "# !mv s27_lgbm_featureEng_colsample0.75.csv '/content/MyDrive/My Drive/Data Science/Analytics Vidhya/Hacklive 2 Guided Community Hackathon/Submission Files'"
      ],
      "execution_count": 101,
      "outputs": []
    },
    {
      "cell_type": "markdown",
      "metadata": {
        "id": "_ny_7AWeX4Np"
      },
      "source": [
        "##8.2 CatBoostRegressor <a name = \"FE_CatBoostRegressor\"></a>"
      ]
    },
    {
      "cell_type": "code",
      "metadata": {
        "id": "uvVTl4mwWuLo",
        "outputId": "21cb861a-c2db-4dd6-a3c9-785d5f14f41e",
        "colab": {
          "base_uri": "https://localhost:8080/",
          "height": 1000
        }
      },
      "source": [
        "model = CatBoostRegressor(n_estimators = 3000,\n",
        "                       learning_rate = 0.01,\n",
        "                       rsm = 0.4, ## Analogous to colsample_bytree\n",
        "                       random_state=2054,\n",
        "                       )\n",
        "\n",
        "fit_params = {'verbose': 200, 'early_stopping_rounds': 200}\n",
        "\n",
        "cb_oofs, cb_preds, fi = run_gradient_boosting(model, fit_params, train, test, cat_num_cols)"
      ],
      "execution_count": 102,
      "outputs": [
        {
          "output_type": "stream",
          "text": [
            "\n",
            "------------- Fold 1 -------------\n",
            "0:\tlearn: 1.9160567\ttest: 1.9076831\tbest: 1.9076831 (0)\ttotal: 14.6ms\tremaining: 43.7s\n",
            "200:\tlearn: 0.8218972\ttest: 0.8311144\tbest: 0.8311144 (200)\ttotal: 2.5s\tremaining: 34.8s\n",
            "400:\tlearn: 0.6858400\ttest: 0.7021322\tbest: 0.7021322 (400)\ttotal: 4.92s\tremaining: 31.9s\n",
            "600:\tlearn: 0.6389114\ttest: 0.6598943\tbest: 0.6598943 (600)\ttotal: 7.35s\tremaining: 29.3s\n",
            "800:\tlearn: 0.6091153\ttest: 0.6342719\tbest: 0.6342719 (800)\ttotal: 9.79s\tremaining: 26.9s\n",
            "1000:\tlearn: 0.5857090\ttest: 0.6151319\tbest: 0.6151319 (1000)\ttotal: 12.3s\tremaining: 24.5s\n",
            "1200:\tlearn: 0.5656890\ttest: 0.5989509\tbest: 0.5989509 (1200)\ttotal: 14.7s\tremaining: 22s\n",
            "1400:\tlearn: 0.5497199\ttest: 0.5869319\tbest: 0.5869319 (1400)\ttotal: 17.1s\tremaining: 19.5s\n",
            "1600:\tlearn: 0.5361651\ttest: 0.5768857\tbest: 0.5768857 (1600)\ttotal: 19.5s\tremaining: 17s\n",
            "1800:\tlearn: 0.5242904\ttest: 0.5687420\tbest: 0.5687420 (1800)\ttotal: 21.9s\tremaining: 14.6s\n",
            "2000:\tlearn: 0.5140422\ttest: 0.5619215\tbest: 0.5619215 (2000)\ttotal: 24.4s\tremaining: 12.2s\n",
            "2200:\tlearn: 0.5044650\ttest: 0.5560625\tbest: 0.5560625 (2200)\ttotal: 26.8s\tremaining: 9.72s\n",
            "2400:\tlearn: 0.4959092\ttest: 0.5508589\tbest: 0.5508589 (2400)\ttotal: 29.2s\tremaining: 7.27s\n",
            "2600:\tlearn: 0.4881127\ttest: 0.5464062\tbest: 0.5464062 (2600)\ttotal: 31.6s\tremaining: 4.84s\n",
            "2800:\tlearn: 0.4808345\ttest: 0.5423990\tbest: 0.5423990 (2800)\ttotal: 34s\tremaining: 2.42s\n",
            "2999:\tlearn: 0.4739740\ttest: 0.5388046\tbest: 0.5388046 (2999)\ttotal: 36.5s\tremaining: 0us\n",
            "\n",
            "bestTest = 0.5388045959\n",
            "bestIteration = 2999\n",
            "\n",
            "\n",
            "AV metric score for validation set is 538.8046001015975\n",
            "\n",
            "------------- Fold 2 -------------\n",
            "0:\tlearn: 1.9111963\ttest: 1.9287167\tbest: 1.9287167 (0)\ttotal: 12.6ms\tremaining: 37.9s\n",
            "200:\tlearn: 0.8231584\ttest: 0.8410529\tbest: 0.8410529 (200)\ttotal: 2.45s\tremaining: 34.1s\n",
            "400:\tlearn: 0.6872165\ttest: 0.7042310\tbest: 0.7042310 (400)\ttotal: 4.88s\tremaining: 31.7s\n",
            "600:\tlearn: 0.6401073\ttest: 0.6597062\tbest: 0.6597062 (600)\ttotal: 7.31s\tremaining: 29.2s\n",
            "800:\tlearn: 0.6102923\ttest: 0.6334380\tbest: 0.6334380 (800)\ttotal: 9.75s\tremaining: 26.8s\n",
            "1000:\tlearn: 0.5867760\ttest: 0.6139235\tbest: 0.6139235 (1000)\ttotal: 12.2s\tremaining: 24.3s\n",
            "1200:\tlearn: 0.5669406\ttest: 0.5976099\tbest: 0.5976099 (1200)\ttotal: 14.6s\tremaining: 21.8s\n",
            "1400:\tlearn: 0.5505423\ttest: 0.5849857\tbest: 0.5849857 (1400)\ttotal: 17s\tremaining: 19.4s\n",
            "1600:\tlearn: 0.5370971\ttest: 0.5754748\tbest: 0.5754748 (1600)\ttotal: 19.4s\tremaining: 16.9s\n",
            "1800:\tlearn: 0.5250548\ttest: 0.5672129\tbest: 0.5672129 (1800)\ttotal: 21.8s\tremaining: 14.5s\n",
            "2000:\tlearn: 0.5147276\ttest: 0.5603441\tbest: 0.5603441 (2000)\ttotal: 24.2s\tremaining: 12.1s\n",
            "2200:\tlearn: 0.5052097\ttest: 0.5544326\tbest: 0.5544326 (2200)\ttotal: 26.7s\tremaining: 9.7s\n",
            "2400:\tlearn: 0.4968850\ttest: 0.5494087\tbest: 0.5494087 (2400)\ttotal: 29.1s\tremaining: 7.27s\n",
            "2600:\tlearn: 0.4887986\ttest: 0.5446953\tbest: 0.5446912 (2599)\ttotal: 31.5s\tremaining: 4.83s\n",
            "2800:\tlearn: 0.4811649\ttest: 0.5406142\tbest: 0.5406142 (2800)\ttotal: 34.1s\tremaining: 2.42s\n",
            "2999:\tlearn: 0.4742962\ttest: 0.5371646\tbest: 0.5371646 (2999)\ttotal: 36.6s\tremaining: 0us\n",
            "\n",
            "bestTest = 0.5371645668\n",
            "bestIteration = 2999\n",
            "\n",
            "\n",
            "AV metric score for validation set is 537.1645675352879\n",
            "\n",
            "------------- Fold 3 -------------\n",
            "0:\tlearn: 1.9171892\ttest: 1.9020628\tbest: 1.9020628 (0)\ttotal: 13.4ms\tremaining: 40.1s\n",
            "200:\tlearn: 0.8222495\ttest: 0.8210482\tbest: 0.8210482 (200)\ttotal: 2.48s\tremaining: 34.6s\n",
            "400:\tlearn: 0.6863650\ttest: 0.6925350\tbest: 0.6925350 (400)\ttotal: 4.9s\tremaining: 31.7s\n",
            "600:\tlearn: 0.6399218\ttest: 0.6499452\tbest: 0.6499452 (600)\ttotal: 7.33s\tremaining: 29.2s\n",
            "800:\tlearn: 0.6100826\ttest: 0.6229530\tbest: 0.6229530 (800)\ttotal: 9.87s\tremaining: 27.1s\n",
            "1000:\tlearn: 0.5876919\ttest: 0.6035127\tbest: 0.6035127 (1000)\ttotal: 12.4s\tremaining: 24.8s\n",
            "1200:\tlearn: 0.5685016\ttest: 0.5879755\tbest: 0.5879755 (1200)\ttotal: 14.8s\tremaining: 22.2s\n",
            "1400:\tlearn: 0.5521778\ttest: 0.5757455\tbest: 0.5757455 (1400)\ttotal: 17.3s\tremaining: 19.8s\n",
            "1600:\tlearn: 0.5384674\ttest: 0.5655877\tbest: 0.5655877 (1600)\ttotal: 19.8s\tremaining: 17.3s\n",
            "1800:\tlearn: 0.5267745\ttest: 0.5572731\tbest: 0.5572731 (1800)\ttotal: 22.4s\tremaining: 14.9s\n",
            "2000:\tlearn: 0.5162373\ttest: 0.5500348\tbest: 0.5500348 (2000)\ttotal: 24.9s\tremaining: 12.4s\n",
            "2200:\tlearn: 0.5068875\ttest: 0.5440592\tbest: 0.5440592 (2200)\ttotal: 27.4s\tremaining: 9.93s\n",
            "2400:\tlearn: 0.4982973\ttest: 0.5385360\tbest: 0.5385360 (2400)\ttotal: 29.8s\tremaining: 7.43s\n",
            "2600:\tlearn: 0.4905056\ttest: 0.5337660\tbest: 0.5337660 (2600)\ttotal: 32.2s\tremaining: 4.94s\n",
            "2800:\tlearn: 0.4829677\ttest: 0.5295566\tbest: 0.5295566 (2800)\ttotal: 34.7s\tremaining: 2.47s\n",
            "2999:\tlearn: 0.4761400\ttest: 0.5256552\tbest: 0.5256466 (2998)\ttotal: 37.3s\tremaining: 0us\n",
            "\n",
            "bestTest = 0.5256465569\n",
            "bestIteration = 2998\n",
            "\n",
            "Shrink model to first 2999 iterations.\n",
            "\n",
            "AV metric score for validation set is 525.6465578060835\n",
            "\n",
            "------------- Fold 4 -------------\n",
            "0:\tlearn: 1.9149315\ttest: 1.9132766\tbest: 1.9132766 (0)\ttotal: 15.2ms\tremaining: 45.5s\n",
            "200:\tlearn: 0.8227164\ttest: 0.8250984\tbest: 0.8250984 (200)\ttotal: 2.6s\tremaining: 36.2s\n",
            "400:\tlearn: 0.6878232\ttest: 0.6938444\tbest: 0.6938444 (400)\ttotal: 5.05s\tremaining: 32.8s\n",
            "600:\tlearn: 0.6413134\ttest: 0.6503627\tbest: 0.6503627 (600)\ttotal: 7.57s\tremaining: 30.2s\n",
            "800:\tlearn: 0.6111076\ttest: 0.6226352\tbest: 0.6226352 (800)\ttotal: 10.1s\tremaining: 27.7s\n",
            "1000:\tlearn: 0.5881743\ttest: 0.6026614\tbest: 0.6026614 (1000)\ttotal: 12.6s\tremaining: 25.3s\n",
            "1200:\tlearn: 0.5681260\ttest: 0.5864984\tbest: 0.5864984 (1200)\ttotal: 15.1s\tremaining: 22.6s\n",
            "1400:\tlearn: 0.5520634\ttest: 0.5738681\tbest: 0.5738681 (1400)\ttotal: 17.5s\tremaining: 20s\n",
            "1600:\tlearn: 0.5379082\ttest: 0.5635124\tbest: 0.5635124 (1600)\ttotal: 19.9s\tremaining: 17.4s\n",
            "1800:\tlearn: 0.5260016\ttest: 0.5549887\tbest: 0.5549887 (1800)\ttotal: 22.3s\tremaining: 14.9s\n",
            "2000:\tlearn: 0.5156023\ttest: 0.5479867\tbest: 0.5479867 (2000)\ttotal: 24.8s\tremaining: 12.4s\n",
            "2200:\tlearn: 0.5060414\ttest: 0.5419206\tbest: 0.5419206 (2200)\ttotal: 27.2s\tremaining: 9.87s\n",
            "2400:\tlearn: 0.4974589\ttest: 0.5366985\tbest: 0.5366985 (2400)\ttotal: 29.6s\tremaining: 7.38s\n",
            "2600:\tlearn: 0.4895770\ttest: 0.5320531\tbest: 0.5320531 (2600)\ttotal: 32.1s\tremaining: 4.93s\n",
            "2800:\tlearn: 0.4824803\ttest: 0.5282564\tbest: 0.5282564 (2800)\ttotal: 34.5s\tremaining: 2.45s\n",
            "2999:\tlearn: 0.4757745\ttest: 0.5245834\tbest: 0.5245834 (2999)\ttotal: 36.9s\tremaining: 0us\n",
            "\n",
            "bestTest = 0.5245833928\n",
            "bestIteration = 2999\n",
            "\n",
            "\n",
            "AV metric score for validation set is 524.5833963621176\n",
            "\n",
            "------------- Fold 5 -------------\n",
            "0:\tlearn: 1.9128882\ttest: 1.9204105\tbest: 1.9204105 (0)\ttotal: 12.9ms\tremaining: 38.5s\n",
            "200:\tlearn: 0.8238721\ttest: 0.8300646\tbest: 0.8300646 (200)\ttotal: 2.46s\tremaining: 34.3s\n",
            "400:\tlearn: 0.6872274\ttest: 0.6985018\tbest: 0.6985018 (400)\ttotal: 4.87s\tremaining: 31.5s\n",
            "600:\tlearn: 0.6387206\ttest: 0.6546479\tbest: 0.6546479 (600)\ttotal: 7.28s\tremaining: 29.1s\n",
            "800:\tlearn: 0.6092089\ttest: 0.6292745\tbest: 0.6292745 (800)\ttotal: 9.72s\tremaining: 26.7s\n",
            "1000:\tlearn: 0.5858225\ttest: 0.6102140\tbest: 0.6102140 (1000)\ttotal: 12.2s\tremaining: 24.3s\n",
            "1200:\tlearn: 0.5653558\ttest: 0.5937881\tbest: 0.5937881 (1200)\ttotal: 14.6s\tremaining: 21.9s\n",
            "1400:\tlearn: 0.5490161\ttest: 0.5816015\tbest: 0.5816015 (1400)\ttotal: 17s\tremaining: 19.4s\n",
            "1600:\tlearn: 0.5353010\ttest: 0.5722465\tbest: 0.5722465 (1600)\ttotal: 19.5s\tremaining: 17s\n",
            "1800:\tlearn: 0.5237352\ttest: 0.5646710\tbest: 0.5646710 (1800)\ttotal: 21.9s\tremaining: 14.6s\n",
            "2000:\tlearn: 0.5132332\ttest: 0.5579234\tbest: 0.5579234 (2000)\ttotal: 24.3s\tremaining: 12.1s\n",
            "2200:\tlearn: 0.5035441\ttest: 0.5520428\tbest: 0.5520428 (2200)\ttotal: 26.8s\tremaining: 9.71s\n",
            "2400:\tlearn: 0.4949818\ttest: 0.5469296\tbest: 0.5469296 (2400)\ttotal: 29.2s\tremaining: 7.28s\n",
            "2600:\tlearn: 0.4870628\ttest: 0.5426962\tbest: 0.5426962 (2600)\ttotal: 31.6s\tremaining: 4.85s\n",
            "2800:\tlearn: 0.4799261\ttest: 0.5388158\tbest: 0.5388158 (2800)\ttotal: 34.5s\tremaining: 2.45s\n",
            "2999:\tlearn: 0.4731969\ttest: 0.5354724\tbest: 0.5354724 (2999)\ttotal: 38.9s\tremaining: 0us\n",
            "\n",
            "bestTest = 0.535472356\n",
            "bestIteration = 2999\n",
            "\n",
            "\n",
            "AV metric score for validation set is 535.4723586371292\n",
            "\n",
            "\n",
            "AV metric for oofs is 532.3683279137864\n"
          ],
          "name": "stdout"
        },
        {
          "output_type": "display_data",
          "data": {
            "image/png": "[encoded data removed]",
            "text/plain": [
              "<Figure size 864x432 with 1 Axes>"
            ]
          },
          "metadata": {
            "tags": []
          }
        }
      ]
    },
    {
      "cell_type": "code",
      "metadata": {
        "id": "oi9ckZeHYBDJ"
      },
      "source": [
        "cb_preds_t = np.expm1(cb_preds)\n",
        "# download_preds(cb_preds_t, file_name = 's11_cb_featureEng.csv')\n",
        "# !mv s11_cb_featureEng.csv '/content/MyDrive/My Drive/Data Science/Analytics Vidhya/Hacklive 2 Guided Community Hackathon/Submission Files'"
      ],
      "execution_count": 103,
      "outputs": []
    },
    {
      "cell_type": "markdown",
      "metadata": {
        "id": "5tKCxsdYY8m2"
      },
      "source": [
        "##8.3 XGBRegressor <a name = \"FE_XGBRegressor\"></a>"
      ]
    },
    {
      "cell_type": "code",
      "metadata": {
        "id": "P8LXu_7sYij7",
        "outputId": "b5121a85-5534-4136-df6c-8d8d967ea376",
        "colab": {
          "base_uri": "https://localhost:8080/",
          "height": 1000
        }
      },
      "source": [
        "model = XGBRegressor(n_estimators = 1000,\n",
        "                    max_depth = 6,\n",
        "                    learning_rate = 0.05,\n",
        "                    colsample_bytree = 0.5,\n",
        "                    random_state=1452,\n",
        "                    )\n",
        "\n",
        "fit_params = {'verbose': 200, 'early_stopping_rounds': 200}\n",
        "\n",
        "xgb_oofs, xgb_preds, fi = run_gradient_boosting(model, fit_params, train, test, cat_num_cols)"
      ],
      "execution_count": 104,
      "outputs": [
        {
          "output_type": "stream",
          "text": [
            "\n",
            "------------- Fold 1 -------------\n",
            "[20:07:35] WARNING: /workspace/src/objective/regression_obj.cu:152: reg:linear is now deprecated in favor of reg:squarederror.\n",
            "[0]\tvalidation_0-rmse:7.13681\n",
            "Will train until validation_0-rmse hasn't improved in 200 rounds.\n",
            "[200]\tvalidation_0-rmse:0.536558\n",
            "[400]\tvalidation_0-rmse:0.510198\n",
            "[600]\tvalidation_0-rmse:0.500166\n",
            "[800]\tvalidation_0-rmse:0.493408\n",
            "[999]\tvalidation_0-rmse:0.489614\n",
            "\n",
            "AV metric score for validation set is 489.59698119941567\n",
            "\n",
            "------------- Fold 2 -------------\n",
            "[20:08:41] WARNING: /workspace/src/objective/regression_obj.cu:152: reg:linear is now deprecated in favor of reg:squarederror.\n",
            "[0]\tvalidation_0-rmse:7.12458\n",
            "Will train until validation_0-rmse hasn't improved in 200 rounds.\n",
            "[200]\tvalidation_0-rmse:0.53584\n",
            "[400]\tvalidation_0-rmse:0.511433\n",
            "[600]\tvalidation_0-rmse:0.49939\n",
            "[800]\tvalidation_0-rmse:0.492849\n",
            "[999]\tvalidation_0-rmse:0.487822\n",
            "\n",
            "AV metric score for validation set is 487.82215722100085\n",
            "\n",
            "------------- Fold 3 -------------\n",
            "[20:09:47] WARNING: /workspace/src/objective/regression_obj.cu:152: reg:linear is now deprecated in favor of reg:squarederror.\n",
            "[0]\tvalidation_0-rmse:7.11758\n",
            "Will train until validation_0-rmse hasn't improved in 200 rounds.\n",
            "[200]\tvalidation_0-rmse:0.526563\n",
            "[400]\tvalidation_0-rmse:0.501203\n",
            "[600]\tvalidation_0-rmse:0.491493\n",
            "[800]\tvalidation_0-rmse:0.485302\n",
            "[999]\tvalidation_0-rmse:0.481634\n",
            "\n",
            "AV metric score for validation set is 481.63485432540665\n",
            "\n",
            "------------- Fold 4 -------------\n",
            "[20:10:53] WARNING: /workspace/src/objective/regression_obj.cu:152: reg:linear is now deprecated in favor of reg:squarederror.\n",
            "[0]\tvalidation_0-rmse:7.11875\n",
            "Will train until validation_0-rmse hasn't improved in 200 rounds.\n",
            "[200]\tvalidation_0-rmse:0.527658\n",
            "[400]\tvalidation_0-rmse:0.502693\n",
            "[600]\tvalidation_0-rmse:0.49182\n",
            "[800]\tvalidation_0-rmse:0.484349\n",
            "[999]\tvalidation_0-rmse:0.479361\n",
            "\n",
            "AV metric score for validation set is 479.3614302009061\n",
            "\n",
            "------------- Fold 5 -------------\n",
            "[20:12:00] WARNING: /workspace/src/objective/regression_obj.cu:152: reg:linear is now deprecated in favor of reg:squarederror.\n",
            "[0]\tvalidation_0-rmse:7.11713\n",
            "Will train until validation_0-rmse hasn't improved in 200 rounds.\n",
            "[200]\tvalidation_0-rmse:0.535204\n",
            "[400]\tvalidation_0-rmse:0.511117\n",
            "[600]\tvalidation_0-rmse:0.500777\n",
            "[800]\tvalidation_0-rmse:0.494866\n",
            "[999]\tvalidation_0-rmse:0.490673\n",
            "\n",
            "AV metric score for validation set is 490.5593511793187\n",
            "\n",
            "\n",
            "AV metric for oofs is 485.8156768634977\n"
          ],
          "name": "stdout"
        },
        {
          "output_type": "display_data",
          "data": {
            "image/png": "[encoded data removed]",
            "text/plain": [
              "<Figure size 864x432 with 1 Axes>"
            ]
          },
          "metadata": {
            "tags": []
          }
        }
      ]
    },
    {
      "cell_type": "code",
      "metadata": {
        "id": "j5wq1143ZEvD"
      },
      "source": [
        "xgb_preds_t = np.expm1(xgb_preds)    \n",
        "# download_preds(xgb_preds_t, file_name = 's28_xgb_featureEng.csv')\n",
        "# !mv s28_xgb_featureEng.csv '/content/MyDrive/My Drive/Data Science/Analytics Vidhya/Hacklive 2 Guided Community Hackathon/Submission Files'"
      ],
      "execution_count": 105,
      "outputs": []
    },
    {
      "cell_type": "markdown",
      "metadata": {
        "id": "V4vFzIJkarjb"
      },
      "source": [
        "#9. Model Ensemble <a name = \"Model_Ensemble\"></a>"
      ]
    },
    {
      "cell_type": "code",
      "metadata": {
        "id": "8A7NfjbnbnQz"
      },
      "source": [
        "test = pd.read_csv('/content/MyDrive/My Drive/Data Science/Analytics Vidhya/Hacklive 2 Guided Community Hackathon/Data/test.csv')\n",
        "train = pd.read_csv('/content/MyDrive/My Drive/Data Science/Analytics Vidhya/Hacklive 2 Guided Community Hackathon/Data/train.csv')"
      ],
      "execution_count": 106,
      "outputs": []
    },
    {
      "cell_type": "code",
      "metadata": {
        "id": "j0ofYAAJaZOF",
        "outputId": "205379e7-5a4e-4753-d509-548e095806c9",
        "colab": {
          "base_uri": "https://localhost:8080/",
          "height": 731
        }
      },
      "source": [
        "train_new = train[[ID_COL, TARGET_COL]]\n",
        "train_new[TARGET_COL] = np.log1p(train_new[TARGET_COL])\n",
        "\n",
        "test_new = test[[ID_COL]]\n",
        "\n",
        "train_new['lgb'] = lgb_oofs\n",
        "test_new['lgb'] = lgb_preds\n",
        "\n",
        "train_new['cb'] = cb_oofs\n",
        "test_new['cb'] = cb_preds\n",
        "\n",
        "train_new['xgb'] = xgb_oofs\n",
        "test_new['xgb'] = xgb_preds\n",
        "\n",
        "features = [c for c in train_new.columns if c not in [ID_COL, TARGET_COL]]"
      ],
      "execution_count": 107,
      "outputs": [
        {
          "output_type": "stream",
          "text": [
            "/usr/local/lib/python3.6/dist-packages/ipykernel_launcher.py:2: SettingWithCopyWarning: \n",
            "A value is trying to be set on a copy of a slice from a DataFrame.\n",
            "Try using .loc[row_indexer,col_indexer] = value instead\n",
            "\n",
            "See the caveats in the documentation: https://pandas.pydata.org/pandas-docs/stable/user_guide/indexing.html#returning-a-view-versus-a-copy\n",
            "  \n",
            "/usr/local/lib/python3.6/dist-packages/ipykernel_launcher.py:6: SettingWithCopyWarning: \n",
            "A value is trying to be set on a copy of a slice from a DataFrame.\n",
            "Try using .loc[row_indexer,col_indexer] = value instead\n",
            "\n",
            "See the caveats in the documentation: https://pandas.pydata.org/pandas-docs/stable/user_guide/indexing.html#returning-a-view-versus-a-copy\n",
            "  \n",
            "/usr/local/lib/python3.6/dist-packages/ipykernel_launcher.py:7: SettingWithCopyWarning: \n",
            "A value is trying to be set on a copy of a slice from a DataFrame.\n",
            "Try using .loc[row_indexer,col_indexer] = value instead\n",
            "\n",
            "See the caveats in the documentation: https://pandas.pydata.org/pandas-docs/stable/user_guide/indexing.html#returning-a-view-versus-a-copy\n",
            "  import sys\n",
            "/usr/local/lib/python3.6/dist-packages/ipykernel_launcher.py:9: SettingWithCopyWarning: \n",
            "A value is trying to be set on a copy of a slice from a DataFrame.\n",
            "Try using .loc[row_indexer,col_indexer] = value instead\n",
            "\n",
            "See the caveats in the documentation: https://pandas.pydata.org/pandas-docs/stable/user_guide/indexing.html#returning-a-view-versus-a-copy\n",
            "  if __name__ == '__main__':\n",
            "/usr/local/lib/python3.6/dist-packages/ipykernel_launcher.py:10: SettingWithCopyWarning: \n",
            "A value is trying to be set on a copy of a slice from a DataFrame.\n",
            "Try using .loc[row_indexer,col_indexer] = value instead\n",
            "\n",
            "See the caveats in the documentation: https://pandas.pydata.org/pandas-docs/stable/user_guide/indexing.html#returning-a-view-versus-a-copy\n",
            "  # Remove the CWD from sys.path while we load stuff.\n",
            "/usr/local/lib/python3.6/dist-packages/ipykernel_launcher.py:12: SettingWithCopyWarning: \n",
            "A value is trying to be set on a copy of a slice from a DataFrame.\n",
            "Try using .loc[row_indexer,col_indexer] = value instead\n",
            "\n",
            "See the caveats in the documentation: https://pandas.pydata.org/pandas-docs/stable/user_guide/indexing.html#returning-a-view-versus-a-copy\n",
            "  if sys.path[0] == '':\n",
            "/usr/local/lib/python3.6/dist-packages/ipykernel_launcher.py:13: SettingWithCopyWarning: \n",
            "A value is trying to be set on a copy of a slice from a DataFrame.\n",
            "Try using .loc[row_indexer,col_indexer] = value instead\n",
            "\n",
            "See the caveats in the documentation: https://pandas.pydata.org/pandas-docs/stable/user_guide/indexing.html#returning-a-view-versus-a-copy\n",
            "  del sys.path[0]\n"
          ],
          "name": "stderr"
        }
      ]
    },
    {
      "cell_type": "code",
      "metadata": {
        "id": "ikBhdf2Sbo1N",
        "outputId": "6b2e6cff-7001-41b7-e91b-99c0bde6dca9",
        "colab": {
          "base_uri": "https://localhost:8080/",
          "height": 1000
        }
      },
      "source": [
        "model = LGBMRegressor(n_estimators = 5000,\n",
        "                        learning_rate = 0.05,\n",
        "                        colsample_bytree = 0.65,\n",
        "                        metric = 'None',\n",
        "                        )\n",
        "fit_params = {'verbose': 300, 'early_stopping_rounds': 200, 'eval_metric': 'rmse'}\n",
        "\n",
        "ens_oofs, ens_preds, fi = run_gradient_boosting(model, fit_params, train_new, test_new, features)"
      ],
      "execution_count": 108,
      "outputs": [
        {
          "output_type": "stream",
          "text": [
            "\n",
            "------------- Fold 1 -------------\n",
            "Training until validation scores don't improve for 200 rounds.\n",
            "Early stopping, best iteration is:\n",
            "[84]\tvalid_0's rmse: 0.486919\n",
            "\n",
            "AV metric score for validation set is 486.91923643451645\n",
            "\n",
            "------------- Fold 2 -------------\n",
            "Training until validation scores don't improve for 200 rounds.\n",
            "[300]\tvalid_0's rmse: 0.489189\n",
            "Early stopping, best iteration is:\n",
            "[106]\tvalid_0's rmse: 0.487382\n",
            "\n",
            "AV metric score for validation set is 487.3822845029407\n",
            "\n",
            "------------- Fold 3 -------------\n",
            "Training until validation scores don't improve for 200 rounds.\n",
            "[300]\tvalid_0's rmse: 0.476696\n",
            "Early stopping, best iteration is:\n",
            "[112]\tvalid_0's rmse: 0.475126\n",
            "\n",
            "AV metric score for validation set is 475.1258237956465\n",
            "\n",
            "------------- Fold 4 -------------\n",
            "Training until validation scores don't improve for 200 rounds.\n",
            "[300]\tvalid_0's rmse: 0.475309\n",
            "Early stopping, best iteration is:\n",
            "[106]\tvalid_0's rmse: 0.473653\n",
            "\n",
            "AV metric score for validation set is 473.6530077158226\n",
            "\n",
            "------------- Fold 5 -------------\n",
            "Training until validation scores don't improve for 200 rounds.\n",
            "[300]\tvalid_0's rmse: 0.484454\n",
            "Early stopping, best iteration is:\n",
            "[120]\tvalid_0's rmse: 0.483326\n",
            "\n",
            "AV metric score for validation set is 483.32644735393256\n",
            "\n",
            "\n",
            "AV metric for oofs is 481.3167459589147\n"
          ],
          "name": "stdout"
        },
        {
          "output_type": "display_data",
          "data": {
            "image/png": "[encoded data removed]",
            "text/plain": [
              "<Figure size 864x432 with 1 Axes>"
            ]
          },
          "metadata": {
            "tags": []
          }
        }
      ]
    },
    {
      "cell_type": "code",
      "metadata": {
        "id": "0pD0ynGab7UK"
      },
      "source": [
        "ens_preds_t = np.expm1(ens_preds)\n",
        "# download_preds(ens_preds_t, file_name = 's13_ens1.csv')\n",
        "# !mv s13_ens1.csv '/content/MyDrive/My Drive/Data Science/Analytics Vidhya/Hacklive 2 Guided Community Hackathon/Submission Files'"
      ],
      "execution_count": 109,
      "outputs": []
    },
    {
      "cell_type": "code",
      "metadata": {
        "id": "XcLJW3B-QyQH"
      },
      "source": [
        ""
      ],
      "execution_count": null,
      "outputs": []
    }
  ]
}